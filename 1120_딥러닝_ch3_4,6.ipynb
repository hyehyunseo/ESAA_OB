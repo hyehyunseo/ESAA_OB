{
  "nbformat": 4,
  "nbformat_minor": 0,
  "metadata": {
    "colab": {
      "provenance": [],
      "authorship_tag": "ABX9TyPeMoFmAnRiHjm5BVmZkhRa",
      "include_colab_link": true
    },
    "kernelspec": {
      "name": "python3",
      "display_name": "Python 3"
    },
    "language_info": {
      "name": "python"
    }
  },
  "cells": [
    {
      "cell_type": "markdown",
      "metadata": {
        "id": "view-in-github",
        "colab_type": "text"
      },
      "source": [
        "<a href=\"https://colab.research.google.com/github/hyehyunseo/ESAA_OB/blob/main/1120_%EB%94%A5%EB%9F%AC%EB%8B%9D_ch3_4%2C6.ipynb\" target=\"_parent\"><img src=\"https://colab.research.google.com/assets/colab-badge.svg\" alt=\"Open In Colab\"/></a>"
      ]
    },
    {
      "cell_type": "markdown",
      "source": [
        "# **[개념 정리]**\n",
        "**11/20(월) 과제 - 파이썬 딥러닝 텐서플로 ch3. 4, 6 ~ 7 pg. 87 ~ 95, 105 ~ 115를 필사**\n",
        "\n",
        "---"
      ],
      "metadata": {
        "id": "TGtsk2FxfuXb"
      }
    },
    {
      "cell_type": "markdown",
      "source": [
        "## **04. 모델 세부 설정**"
      ],
      "metadata": {
        "id": "uDJdNjKVhXBl"
      }
    },
    {
      "cell_type": "code",
      "execution_count": 1,
      "metadata": {
        "colab": {
          "base_uri": "https://localhost:8080/"
        },
        "id": "NZoEJYgLfJ3B",
        "outputId": "c98cc4dc-2e91-41f3-8b5e-06c7730980ad"
      },
      "outputs": [
        {
          "output_type": "stream",
          "name": "stdout",
          "text": [
            "Downloading data from https://storage.googleapis.com/tensorflow/tf-keras-datasets/mnist.npz\n",
            "11490434/11490434 [==============================] - 1s 0us/step\n",
            "train set: (60000, 28, 28) (60000,)\n",
            "test set: (10000, 28, 28) (10000,)\n"
          ]
        }
      ],
      "source": [
        "import tensorflow as tf\n",
        "\n",
        "#케라스의 내장 데이터셋에서 mnist 데이터 로드\n",
        "mnist=tf.keras.datasets.mnist\n",
        "\n",
        "#load_data()로 데이터 로드\n",
        "(x_train, y_train), (x_test, y_test)=mnist.load_data()\n",
        "\n",
        "#로드된 데이터셋 확인\n",
        "print('train set:', x_train.shape, y_train.shape)\n",
        "print('test set:', x_test.shape, y_test.shape)\n",
        "\n",
        "#데이터 정규화\n",
        "x_train=x_train/x_train.max()\n",
        "x_test=x_test/x_test.max()"
      ]
    },
    {
      "cell_type": "markdown",
      "source": [
        "### **4-1. 초기값 설정**\n",
        "\n",
        "레이어의 초기화 방법을 다르게 설정할 수 있다.\n",
        "\n",
        "Dense 레이어는 기본 초기화 방법으로 Glorot Uniform 초기화 방법이 설정되어 있다."
      ],
      "metadata": {
        "id": "EH3HdFaWhc09"
      }
    },
    {
      "cell_type": "code",
      "source": [
        "dense=tf.keras.layers.Dense(256, activation='relu')\n",
        "dense.get_config()['kernel_initializer']"
      ],
      "metadata": {
        "colab": {
          "base_uri": "https://localhost:8080/"
        },
        "id": "pgyz8c7phcad",
        "outputId": "ec441dc6-ec03-4d6f-e4ad-b57f05f3b61b"
      },
      "execution_count": 2,
      "outputs": [
        {
          "output_type": "execute_result",
          "data": {
            "text/plain": [
              "{'module': 'keras.initializers',\n",
              " 'class_name': 'GlorotUniform',\n",
              " 'config': {'seed': None},\n",
              " 'registered_name': None}"
            ]
          },
          "metadata": {},
          "execution_count": 2
        }
      ]
    },
    {
      "cell_type": "markdown",
      "source": [
        "=> 기본 값으로 설정된 Glorot Uniform 초기화 방법을 HeNormal로 변경하기 위해서는 kernel_initializer 매개 변수에 설정한다."
      ],
      "metadata": {
        "id": "kJVzRcm3h3tf"
      }
    },
    {
      "cell_type": "code",
      "source": [
        "#문자열 초기화\n",
        "dense=tf.keras.layers.Dense(256, kernel_initializer='he_normal', activation='relu')\n",
        "print(dense.get_config()['kernel_initializer'])\n",
        "\n",
        "#클래스 인스턴스 초기화\n",
        "he_normal=tf.keras.initializers.HeNormal()\n",
        "dense=tf.keras.layers.Dense(256, kernel_initializer=he_normal, activation='relu')\n",
        "print(dense.get_config()['kernel_initializer'])"
      ],
      "metadata": {
        "colab": {
          "base_uri": "https://localhost:8080/"
        },
        "id": "hBB5YIqQhkWE",
        "outputId": "f2fb1331-ab53-4079-b8a7-a29cdd40c9e4"
      },
      "execution_count": 3,
      "outputs": [
        {
          "output_type": "stream",
          "name": "stdout",
          "text": [
            "{'module': 'keras.initializers', 'class_name': 'HeNormal', 'config': {'seed': None}, 'registered_name': None}\n",
            "{'module': 'keras.initializers', 'class_name': 'HeNormal', 'config': {'seed': None}, 'registered_name': None}\n"
          ]
        }
      ]
    },
    {
      "cell_type": "markdown",
      "source": [
        "[케라스에서 지원하는 자주 사용되는 최기화 목록]\n",
        "* glorot_normal / glorot_uniform : 글로럿 초기화\n",
        "\n",
        "* lecun_normal / lecun_uniform : Yann Lecun 초기화\n",
        "\n",
        "* he_normal / he_uniform: He초기화\n",
        "\n",
        "* random_normal / random_uniform : 정규 분포"
      ],
      "metadata": {
        "id": "RXyurr3Ikibj"
      }
    },
    {
      "cell_type": "markdown",
      "source": [
        "### **4-2. 규제**\n",
        "\n",
        "모델의 과대적합을 해소하기 위해 L1, L2 규제를 적용하기도 한다.\n",
        "\n",
        "텐서플로 케라스 레이어는 기본값으로 규제를 적용하지 않기 때문에, 레이어에 규제를 적용하기 위해서는 별도로 설정해 주어야한다."
      ],
      "metadata": {
        "id": "ysS5FKrVkpe_"
      }
    },
    {
      "cell_type": "code",
      "source": [
        "#기본값\n",
        "dense=tf.keras.layers.Dense(256, activation='relu')\n",
        "dense.get_config()"
      ],
      "metadata": {
        "colab": {
          "base_uri": "https://localhost:8080/"
        },
        "id": "6cb5YuItkfva",
        "outputId": "601c1df7-ca67-4bca-c5f2-452c0b09876d"
      },
      "execution_count": 4,
      "outputs": [
        {
          "output_type": "execute_result",
          "data": {
            "text/plain": [
              "{'name': 'dense_3',\n",
              " 'trainable': True,\n",
              " 'dtype': 'float32',\n",
              " 'units': 256,\n",
              " 'activation': 'relu',\n",
              " 'use_bias': True,\n",
              " 'kernel_initializer': {'module': 'keras.initializers',\n",
              "  'class_name': 'GlorotUniform',\n",
              "  'config': {'seed': None},\n",
              "  'registered_name': None},\n",
              " 'bias_initializer': {'module': 'keras.initializers',\n",
              "  'class_name': 'Zeros',\n",
              "  'config': {},\n",
              "  'registered_name': None},\n",
              " 'kernel_regularizer': None,\n",
              " 'bias_regularizer': None,\n",
              " 'activity_regularizer': None,\n",
              " 'kernel_constraint': None,\n",
              " 'bias_constraint': None}"
            ]
          },
          "metadata": {},
          "execution_count": 4
        }
      ]
    },
    {
      "cell_type": "markdown",
      "source": [
        "[케라스에서 지원하는 규제]\n",
        "\n",
        "* L1 규제\n",
        "* L2 규제"
      ],
      "metadata": {
        "id": "CtqjQihEk-g-"
      }
    },
    {
      "cell_type": "code",
      "source": [
        "#L1 규제 적용\n",
        "dense=tf.keras.layers.Dense(256, kernel_regularizer='l1', activation='relu')\n",
        "print(dense.get_config()['kernel_regularizer'])\n",
        "\n",
        "#클래스 인스턴스 적용, alpha=0.1 변경\n",
        "regularizer=tf.keras.regularizers.l1(l1=0.1)\n",
        "dense=tf.keras.layers.Dense(256, kernel_regularizer=regularizer, activation='relu')\n",
        "print(dense.get_config()['kernel_regularizer'])"
      ],
      "metadata": {
        "colab": {
          "base_uri": "https://localhost:8080/"
        },
        "id": "MIkTJRaCkfs8",
        "outputId": "5f2d824f-7f42-40c3-941a-f6fad2af0b80"
      },
      "execution_count": 5,
      "outputs": [
        {
          "output_type": "stream",
          "name": "stdout",
          "text": [
            "{'module': 'keras.regularizers', 'class_name': 'L1', 'config': {'l1': 0.009999999776482582}, 'registered_name': None}\n",
            "{'module': 'keras.regularizers', 'class_name': 'L1', 'config': {'l1': 0.10000000149011612}, 'registered_name': None}\n"
          ]
        }
      ]
    },
    {
      "cell_type": "markdown",
      "source": [
        "### **4-3. 드롭아웃**\n",
        "\n",
        "딥러닝 모델의 층이 넓고 깊어질 때 모델은 훈련에 주어진 샘플에 과하게 적합하도록 학습하는 경향이 있다. 따라서, 훈련할 때 만나지 못한 새로운 데이터에 대해서는 좋지 않은 예측력을 보일 때가 많다.\n",
        "\n",
        "=> 드롭아웃은 모델의 과대적합 문제를 해결하기 위해 제안된 아이디어이며, 실무적으로 상당히 좋은 효과를 보인다.\n",
        "\n",
        "* 노드의 일부 신호를 임의로 삭제하여 모델이 쉽게 과대적합 되는 것을 방지할 수 있다. 모델이 학습하는 가중치 파라미터의 개수가 현저하게 줄어들기 때문이다.\n",
        "* 중요한 점은 모델이 훈련할 때는 드롭아웃이 적용되어 노드 중 일부만 훈련하게 되지만,예측 시점에는 모든 노드들이 활용된다."
      ],
      "metadata": {
        "id": "VG8yALpmlGQb"
      }
    },
    {
      "cell_type": "code",
      "source": [
        "#dropout 25% 비율 적용 (25% 노드가 삭제)\n",
        "tf.keras.layers.Dropout(0.25)"
      ],
      "metadata": {
        "colab": {
          "base_uri": "https://localhost:8080/"
        },
        "id": "30yZsalSlHyp",
        "outputId": "c1da8f4a-4407-4262-c967-08694aff2f93"
      },
      "execution_count": 6,
      "outputs": [
        {
          "output_type": "execute_result",
          "data": {
            "text/plain": [
              "<keras.src.layers.regularization.dropout.Dropout at 0x7f8a3c189f00>"
            ]
          },
          "metadata": {},
          "execution_count": 6
        }
      ]
    },
    {
      "cell_type": "markdown",
      "source": [
        "### **4-4. 배치 정규화**\n",
        "\n",
        "배치 정규화는 각 층에서 활성화 함수를 통과하기 전 미니 배치의 스케일을 정규화한다. 다음 층으로 데이터가 전달되기 전에 스케일을 조정하기 때문에 보다 안정적인 훈련이 가능하고, 성능을 크게 향상시킬 수 있다."
      ],
      "metadata": {
        "id": "7zH2IgaalrtH"
      }
    },
    {
      "cell_type": "code",
      "source": [
        "#model A: Dense+ReLu\n",
        "model_a=tf.keras.Sequential([\n",
        "    tf.keras.layers.Flatten(input_shape=(28, 28)),\n",
        "    tf.keras.layers.Dense(64, activation='relu'),\n",
        "    tf.keras.layers.Dense(32, activation='relu'),\n",
        "    tf.keras.layers.Dense(10, activation='softmax')\n",
        "])\n",
        "\n",
        "model_a.summary()"
      ],
      "metadata": {
        "colab": {
          "base_uri": "https://localhost:8080/"
        },
        "id": "8M7dEg6dlp0H",
        "outputId": "cada4b1e-22ab-45f3-a759-084dcd02dccf"
      },
      "execution_count": 7,
      "outputs": [
        {
          "output_type": "stream",
          "name": "stdout",
          "text": [
            "Model: \"sequential\"\n",
            "_________________________________________________________________\n",
            " Layer (type)                Output Shape              Param #   \n",
            "=================================================================\n",
            " flatten (Flatten)           (None, 784)               0         \n",
            "                                                                 \n",
            " dense_6 (Dense)             (None, 64)                50240     \n",
            "                                                                 \n",
            " dense_7 (Dense)             (None, 32)                2080      \n",
            "                                                                 \n",
            " dense_8 (Dense)             (None, 10)                330       \n",
            "                                                                 \n",
            "=================================================================\n",
            "Total params: 52650 (205.66 KB)\n",
            "Trainable params: 52650 (205.66 KB)\n",
            "Non-trainable params: 0 (0.00 Byte)\n",
            "_________________________________________________________________\n"
          ]
        }
      ]
    },
    {
      "cell_type": "code",
      "source": [
        "#model B: Dense+BatchNorm+ReLU\n",
        "model_b=tf.keras.Sequential([\n",
        "    tf.keras.layers.Flatten(input_shape=(28, 28)),\n",
        "    tf.keras.layers.Dense(64),\n",
        "    #여기서 배치 정규화 적용\n",
        "    tf.keras.layers.BatchNormalization(),\n",
        "    #배치 정규화 후 활성화 함수 적용\n",
        "    tf.keras.layers.Activation('relu'),\n",
        "\n",
        "    tf.keras.layers.Dense(32),\n",
        "    #배치 정규화 적용\n",
        "    tf.keras.layers.BatchNormalization(),\n",
        "    #배치 정규화 후 활성화 함수 적용\n",
        "    tf.keras.layers.Activation('relu'),\n",
        "\n",
        "    tf.keras.layers.Dense(10, activation='softmax')\n",
        "])\n",
        "\n",
        "model_b.summary()"
      ],
      "metadata": {
        "colab": {
          "base_uri": "https://localhost:8080/"
        },
        "id": "mjFRorIvl3vG",
        "outputId": "488a2244-a07c-40fb-864e-7de772ca4765"
      },
      "execution_count": 8,
      "outputs": [
        {
          "output_type": "stream",
          "name": "stdout",
          "text": [
            "Model: \"sequential_1\"\n",
            "_________________________________________________________________\n",
            " Layer (type)                Output Shape              Param #   \n",
            "=================================================================\n",
            " flatten_1 (Flatten)         (None, 784)               0         \n",
            "                                                                 \n",
            " dense_9 (Dense)             (None, 64)                50240     \n",
            "                                                                 \n",
            " batch_normalization (Batch  (None, 64)                256       \n",
            " Normalization)                                                  \n",
            "                                                                 \n",
            " activation (Activation)     (None, 64)                0         \n",
            "                                                                 \n",
            " dense_10 (Dense)            (None, 32)                2080      \n",
            "                                                                 \n",
            " batch_normalization_1 (Bat  (None, 32)                128       \n",
            " chNormalization)                                                \n",
            "                                                                 \n",
            " activation_1 (Activation)   (None, 32)                0         \n",
            "                                                                 \n",
            " dense_11 (Dense)            (None, 10)                330       \n",
            "                                                                 \n",
            "=================================================================\n",
            "Total params: 53034 (207.16 KB)\n",
            "Trainable params: 52842 (206.41 KB)\n",
            "Non-trainable params: 192 (768.00 Byte)\n",
            "_________________________________________________________________\n"
          ]
        }
      ]
    },
    {
      "cell_type": "markdown",
      "source": [
        "### **4-5. 활성화 함수**\n",
        "\n",
        "활성화 함수를 적용할 때, 다음과 같이 클래스 인스턴스로 선하여 하이퍼파라미터 값을 변경하여 적용할 수 있다."
      ],
      "metadata": {
        "id": "67AlWG5gl7z5"
      }
    },
    {
      "cell_type": "code",
      "source": [
        "#LeakyReLU 기본 설정\n",
        "tf.keras.layers.LeakyReLU()\n",
        "\n",
        "#LeakyReLU, alpha=0.2로 변경\n",
        "tf.keras.layers.LeakyReLU(alpha=0.2)"
      ],
      "metadata": {
        "colab": {
          "base_uri": "https://localhost:8080/"
        },
        "id": "W0RFG1F3l5RG",
        "outputId": "2358b419-190e-4fd6-9382-4b2060bb2cc5"
      },
      "execution_count": 9,
      "outputs": [
        {
          "output_type": "execute_result",
          "data": {
            "text/plain": [
              "<keras.src.layers.activation.leaky_relu.LeakyReLU at 0x7f8a3b8ffd30>"
            ]
          },
          "metadata": {},
          "execution_count": 9
        }
      ]
    },
    {
      "cell_type": "code",
      "source": [
        "#model C: Dense+BatchNorm+LeakyReLU(0,2)\n",
        "model_c=tf.keras.Sequential([\n",
        "    tf.keras.layers.Flatten(input_shape=(28, 28)),\n",
        "    tf.keras.layers.Dense(64),\n",
        "    #여기서 배치 정규화 적용\n",
        "    tf.keras.layers.BatchNormalization(),\n",
        "    #배치 정규화 후 활성화 함수 (LeakyReLU, alpha=0.2) 적용\n",
        "    tf.keras.layers.LeakyReLU(alpha=0.2),\n",
        "\n",
        "    tf.keras.layers.Dense(32),\n",
        "    #배치 정규화 적용\n",
        "    tf.keras.layers.BatchNormalization(),\n",
        "    #배치 정규화 후 활성화 함수 적용\n",
        "    tf.keras.layers.LeakyReLU(alpha=0.2),\n",
        "\n",
        "    tf.keras.layers.Dense(10, activation='softmax')\n",
        "])\n",
        "\n",
        "model_c.summary()"
      ],
      "metadata": {
        "colab": {
          "base_uri": "https://localhost:8080/"
        },
        "id": "LNnl0Tz8mpZa",
        "outputId": "960a1171-06dc-4f34-d4f8-5043448c5b3c"
      },
      "execution_count": 10,
      "outputs": [
        {
          "output_type": "stream",
          "name": "stdout",
          "text": [
            "Model: \"sequential_2\"\n",
            "_________________________________________________________________\n",
            " Layer (type)                Output Shape              Param #   \n",
            "=================================================================\n",
            " flatten_2 (Flatten)         (None, 784)               0         \n",
            "                                                                 \n",
            " dense_12 (Dense)            (None, 64)                50240     \n",
            "                                                                 \n",
            " batch_normalization_2 (Bat  (None, 64)                256       \n",
            " chNormalization)                                                \n",
            "                                                                 \n",
            " leaky_re_lu_2 (LeakyReLU)   (None, 64)                0         \n",
            "                                                                 \n",
            " dense_13 (Dense)            (None, 32)                2080      \n",
            "                                                                 \n",
            " batch_normalization_3 (Bat  (None, 32)                128       \n",
            " chNormalization)                                                \n",
            "                                                                 \n",
            " leaky_re_lu_3 (LeakyReLU)   (None, 32)                0         \n",
            "                                                                 \n",
            " dense_14 (Dense)            (None, 10)                330       \n",
            "                                                                 \n",
            "=================================================================\n",
            "Total params: 53034 (207.16 KB)\n",
            "Trainable params: 52842 (206.41 KB)\n",
            "Non-trainable params: 192 (768.00 Byte)\n",
            "_________________________________________________________________\n"
          ]
        }
      ]
    },
    {
      "cell_type": "markdown",
      "source": [
        "* model a: Dense 레이어 + ReLU 활성화 함수\n",
        "* model b : Dense 레이어 + 배치 정규화\n",
        "* model c : Dense 레이어 + 배치 정규화 + LeakyReLU 활성화 함수"
      ],
      "metadata": {
        "id": "navJ08MqmvT9"
      }
    },
    {
      "cell_type": "code",
      "source": [
        "model_a.compile(optimizer='adam', loss='sparse_categorical_crossentropy', metrics=['accuracy'])\n",
        "model_b.compile(optimizer='adam', loss='sparse_categorical_crossentropy', metrics=['accuracy'])\n",
        "model_c.compile(optimizer='adam', loss='sparse_categorical_crossentropy', metrics=['accuracy'])\n",
        "\n",
        "#Model A : Dense + ReLU\n",
        "history_a=model_a.fit(x_train, y_train,\n",
        "                      validation_data=(x_test, y_test), epochs=10)\n",
        "#Model B : Dense + BatchNorm + ReLU\n",
        "history_b=model_b.fit(x_train, y_train,\n",
        "                      validation_data=(x_test, y_test), epochs=10)\n",
        "#Model C : Dense + BatchNorm + LeakyReLU(0,2)\n",
        "history_c=model_c.fit(x_train, y_train,\n",
        "                      validation_data=(x_test, y_test), epochs=10)"
      ],
      "metadata": {
        "colab": {
          "base_uri": "https://localhost:8080/"
        },
        "id": "ITC0-p6hmqSp",
        "outputId": "ab8056c5-bf9f-4e97-c6e9-6adca9e53167"
      },
      "execution_count": 11,
      "outputs": [
        {
          "output_type": "stream",
          "name": "stdout",
          "text": [
            "Epoch 1/10\n",
            "1875/1875 [==============================] - 16s 8ms/step - loss: 0.3022 - accuracy: 0.9116 - val_loss: 0.1670 - val_accuracy: 0.9502\n",
            "Epoch 2/10\n",
            "1875/1875 [==============================] - 8s 4ms/step - loss: 0.1355 - accuracy: 0.9600 - val_loss: 0.1332 - val_accuracy: 0.9598\n",
            "Epoch 3/10\n",
            "1875/1875 [==============================] - 9s 5ms/step - loss: 0.0987 - accuracy: 0.9703 - val_loss: 0.1082 - val_accuracy: 0.9669\n",
            "Epoch 4/10\n",
            "1875/1875 [==============================] - 11s 6ms/step - loss: 0.0773 - accuracy: 0.9766 - val_loss: 0.0943 - val_accuracy: 0.9700\n",
            "Epoch 5/10\n",
            "1875/1875 [==============================] - 8s 4ms/step - loss: 0.0646 - accuracy: 0.9798 - val_loss: 0.0969 - val_accuracy: 0.9704\n",
            "Epoch 6/10\n",
            "1875/1875 [==============================] - 10s 5ms/step - loss: 0.0535 - accuracy: 0.9824 - val_loss: 0.0848 - val_accuracy: 0.9743\n",
            "Epoch 7/10\n",
            "1875/1875 [==============================] - 9s 5ms/step - loss: 0.0453 - accuracy: 0.9856 - val_loss: 0.0968 - val_accuracy: 0.9721\n",
            "Epoch 8/10\n",
            "1875/1875 [==============================] - 7s 4ms/step - loss: 0.0396 - accuracy: 0.9869 - val_loss: 0.0762 - val_accuracy: 0.9780\n",
            "Epoch 9/10\n",
            "1875/1875 [==============================] - 8s 4ms/step - loss: 0.0335 - accuracy: 0.9893 - val_loss: 0.0929 - val_accuracy: 0.9750\n",
            "Epoch 10/10\n",
            "1875/1875 [==============================] - 6s 3ms/step - loss: 0.0304 - accuracy: 0.9902 - val_loss: 0.0993 - val_accuracy: 0.9734\n",
            "Epoch 1/10\n",
            "1875/1875 [==============================] - 12s 6ms/step - loss: 0.3209 - accuracy: 0.9121 - val_loss: 0.1254 - val_accuracy: 0.9638\n",
            "Epoch 2/10\n",
            "1875/1875 [==============================] - 10s 5ms/step - loss: 0.1441 - accuracy: 0.9557 - val_loss: 0.1000 - val_accuracy: 0.9702\n",
            "Epoch 3/10\n",
            "1875/1875 [==============================] - 9s 5ms/step - loss: 0.1119 - accuracy: 0.9658 - val_loss: 0.0900 - val_accuracy: 0.9718\n",
            "Epoch 4/10\n",
            "1875/1875 [==============================] - 9s 5ms/step - loss: 0.0940 - accuracy: 0.9706 - val_loss: 0.0937 - val_accuracy: 0.9709\n",
            "Epoch 5/10\n",
            "1875/1875 [==============================] - 7s 4ms/step - loss: 0.0828 - accuracy: 0.9732 - val_loss: 0.0824 - val_accuracy: 0.9750\n",
            "Epoch 6/10\n",
            "1875/1875 [==============================] - 9s 5ms/step - loss: 0.0759 - accuracy: 0.9752 - val_loss: 0.0818 - val_accuracy: 0.9759\n",
            "Epoch 7/10\n",
            "1875/1875 [==============================] - 8s 4ms/step - loss: 0.0666 - accuracy: 0.9785 - val_loss: 0.0780 - val_accuracy: 0.9766\n",
            "Epoch 8/10\n",
            "1875/1875 [==============================] - 9s 5ms/step - loss: 0.0610 - accuracy: 0.9808 - val_loss: 0.0757 - val_accuracy: 0.9772\n",
            "Epoch 9/10\n",
            "1875/1875 [==============================] - 12s 6ms/step - loss: 0.0586 - accuracy: 0.9809 - val_loss: 0.0813 - val_accuracy: 0.9754\n",
            "Epoch 10/10\n",
            "1875/1875 [==============================] - 10s 6ms/step - loss: 0.0527 - accuracy: 0.9817 - val_loss: 0.0767 - val_accuracy: 0.9763\n",
            "Epoch 1/10\n",
            "1875/1875 [==============================] - 12s 5ms/step - loss: 0.3205 - accuracy: 0.9114 - val_loss: 0.1465 - val_accuracy: 0.9559\n",
            "Epoch 2/10\n",
            "1875/1875 [==============================] - 10s 5ms/step - loss: 0.1527 - accuracy: 0.9544 - val_loss: 0.1215 - val_accuracy: 0.9630\n",
            "Epoch 3/10\n",
            "1875/1875 [==============================] - 11s 6ms/step - loss: 0.1212 - accuracy: 0.9635 - val_loss: 0.0958 - val_accuracy: 0.9705\n",
            "Epoch 4/10\n",
            "1875/1875 [==============================] - 9s 5ms/step - loss: 0.1015 - accuracy: 0.9686 - val_loss: 0.0864 - val_accuracy: 0.9716\n",
            "Epoch 5/10\n",
            "1875/1875 [==============================] - 8s 4ms/step - loss: 0.0912 - accuracy: 0.9713 - val_loss: 0.0925 - val_accuracy: 0.9699\n",
            "Epoch 6/10\n",
            "1875/1875 [==============================] - 8s 4ms/step - loss: 0.0849 - accuracy: 0.9733 - val_loss: 0.0840 - val_accuracy: 0.9744\n",
            "Epoch 7/10\n",
            "1875/1875 [==============================] - 12s 6ms/step - loss: 0.0770 - accuracy: 0.9754 - val_loss: 0.0810 - val_accuracy: 0.9748\n",
            "Epoch 8/10\n",
            "1875/1875 [==============================] - 10s 5ms/step - loss: 0.0711 - accuracy: 0.9778 - val_loss: 0.0787 - val_accuracy: 0.9756\n",
            "Epoch 9/10\n",
            "1875/1875 [==============================] - 9s 5ms/step - loss: 0.0641 - accuracy: 0.9790 - val_loss: 0.0759 - val_accuracy: 0.9773\n",
            "Epoch 10/10\n",
            "1875/1875 [==============================] - 9s 5ms/step - loss: 0.0627 - accuracy: 0.9795 - val_loss: 0.0793 - val_accuracy: 0.9755\n"
          ]
        }
      ]
    },
    {
      "cell_type": "code",
      "source": [
        "import matplotlib.pyplot as plt\n",
        "import numpy as np\n",
        "\n",
        "plt.figure(figsize=(12, 9))\n",
        "plt.plot(np.arange(1, 11), history_a.history['val_loss'], color='navy', linestyle=':')\n",
        "plt.plot(np.arange(1, 11), history_b.history['val_loss'], color='tomato', linestyle='-.')\n",
        "plt.plot(np.arange(1, 11), history_c.history['val_loss'], color='green', linestyle='-')\n",
        "\n",
        "plt.title('Losses', fontsize=20)\n",
        "plt.xlabel('epochs')\n",
        "plt.ylabel('Losses')\n",
        "plt.legend(['ReLU', 'BatchNorm+ReLU', 'BatchNorm+LeakyReLU'], fontsize=12)\n",
        "plt.show()"
      ],
      "metadata": {
        "colab": {
          "base_uri": "https://localhost:8080/",
          "height": 668
        },
        "id": "4P5Aba0Pmrn_",
        "outputId": "d75aa589-300b-44e1-9c50-fc11ee4b55d4"
      },
      "execution_count": 12,
      "outputs": [
        {
          "output_type": "display_data",
          "data": {
            "text/plain": [
              "<Figure size 1200x900 with 1 Axes>"
            ],
            "image/png": "[encoded data removed]"
          },
          "metadata": {}
        }
      ]
    },
    {
      "cell_type": "markdown",
      "source": [
        "=> 실행 결과를 보면 mnist 데이터셋은 모델별 차이가 크지는 않다."
      ],
      "metadata": {
        "id": "BpE70RCAnDmU"
      }
    },
    {
      "cell_type": "markdown",
      "source": [
        "## **06. 모델 저장 및 불러오기**"
      ],
      "metadata": {
        "id": "64vyEdG7nb-N"
      }
    },
    {
      "cell_type": "markdown",
      "source": [
        "### **6-1. 모델을 파일로 저장**\n",
        "\n",
        "훈련을 종료하여 가중치가 업데이트된 모델 인스턴스를 저장할 수 있다.\n",
        "* save() 메소드를 사용하는데, save() 메소드를 호출할 때 저장할 파일의 디렉토리를 포함하는 파일명을 매개변수로 지정한다.\n",
        "* 모델을 저장하는 형식은 HDF5 포맷과 SavedModel 포맷 두가지가 있다."
      ],
      "metadata": {
        "id": "hjOkTcIwnhnk"
      }
    },
    {
      "cell_type": "code",
      "source": [
        "from google.colab import drive\n",
        "drive.mount('/content/mydrive')"
      ],
      "metadata": {
        "colab": {
          "base_uri": "https://localhost:8080/"
        },
        "id": "wEeNeBCRms_H",
        "outputId": "b5188ad8-4152-4801-df46-47cff1aa7975"
      },
      "execution_count": 14,
      "outputs": [
        {
          "output_type": "stream",
          "name": "stdout",
          "text": [
            "Mounted at /content/mydrive\n"
          ]
        }
      ]
    },
    {
      "cell_type": "code",
      "source": [
        "#모델명을 h5 포맷으로 저장\n",
        "model_b.save('/content/mydrive/MyDrive/ESAA/OB/data/h5-model.h5')"
      ],
      "metadata": {
        "colab": {
          "base_uri": "https://localhost:8080/"
        },
        "id": "5vikDfg9oCsl",
        "outputId": "7c88197d-79b3-48d4-b5f4-2b55ffeda22a"
      },
      "execution_count": 15,
      "outputs": [
        {
          "output_type": "stream",
          "name": "stderr",
          "text": [
            "/usr/local/lib/python3.10/dist-packages/keras/src/engine/training.py:3079: UserWarning: You are saving your model as an HDF5 file via `model.save()`. This file format is considered legacy. We recommend using instead the native Keras format, e.g. `model.save('my_model.keras')`.\n",
            "  saving_api.save_model(\n"
          ]
        }
      ]
    },
    {
      "cell_type": "markdown",
      "source": [
        "### **6-2. 저장된 모델 복원**"
      ],
      "metadata": {
        "id": "WtLHlbHrn6lO"
      }
    },
    {
      "cell_type": "code",
      "source": [
        "#모델 복원\n",
        "h5_model=tf.keras.models.load_model('/content/mydrive/MyDrive/ESAA/OB/data/h5-model.h5')\n",
        "h5_model.summary()"
      ],
      "metadata": {
        "colab": {
          "base_uri": "https://localhost:8080/"
        },
        "id": "Ugc7CKmhn6Fa",
        "outputId": "150e169b-2022-4633-e028-64e2cd96aff1"
      },
      "execution_count": 16,
      "outputs": [
        {
          "output_type": "stream",
          "name": "stdout",
          "text": [
            "Model: \"sequential_1\"\n",
            "_________________________________________________________________\n",
            " Layer (type)                Output Shape              Param #   \n",
            "=================================================================\n",
            " flatten_1 (Flatten)         (None, 784)               0         \n",
            "                                                                 \n",
            " dense_9 (Dense)             (None, 64)                50240     \n",
            "                                                                 \n",
            " batch_normalization (Batch  (None, 64)                256       \n",
            " Normalization)                                                  \n",
            "                                                                 \n",
            " activation (Activation)     (None, 64)                0         \n",
            "                                                                 \n",
            " dense_10 (Dense)            (None, 32)                2080      \n",
            "                                                                 \n",
            " batch_normalization_1 (Bat  (None, 32)                128       \n",
            " chNormalization)                                                \n",
            "                                                                 \n",
            " activation_1 (Activation)   (None, 32)                0         \n",
            "                                                                 \n",
            " dense_11 (Dense)            (None, 10)                330       \n",
            "                                                                 \n",
            "=================================================================\n",
            "Total params: 53034 (207.16 KB)\n",
            "Trainable params: 52842 (206.41 KB)\n",
            "Non-trainable params: 192 (768.00 Byte)\n",
            "_________________________________________________________________\n"
          ]
        }
      ]
    },
    {
      "cell_type": "markdown",
      "source": [
        "* 검증 셋을 evaluate 함수에 대입해 손실 함수와 평가지표를 계산한다."
      ],
      "metadata": {
        "id": "lW4qIjsHoTEn"
      }
    },
    {
      "cell_type": "code",
      "source": [
        "# 모델 검증\n",
        "loss, acc=h5_model.evaluate(x_test, y_test, verbose=0)\n",
        "print(f'h5_model] loss: {loss:.5f}, acc: {acc:.5f}')"
      ],
      "metadata": {
        "colab": {
          "base_uri": "https://localhost:8080/"
        },
        "id": "DkACZjBgoP37",
        "outputId": "8d29d6d3-d3f0-4212-af25-744932950163"
      },
      "execution_count": 17,
      "outputs": [
        {
          "output_type": "stream",
          "name": "stdout",
          "text": [
            "h5_model] loss: 0.07669, acc: 0.97630\n"
          ]
        }
      ]
    },
    {
      "cell_type": "code",
      "source": [
        "# 모델을 SavedModel 포맷으로 저장\n",
        "model_b.save('/content/mydrive/MyDrive/ESAA/OB/data/saved-model')"
      ],
      "metadata": {
        "id": "y7nx6Dq1oYUy"
      },
      "execution_count": 18,
      "outputs": []
    },
    {
      "cell_type": "code",
      "source": [
        "#모델 복원\n",
        "saved_model=tf.keras.models.load_model('/content/mydrive/MyDrive/ESAA/OB/data/saved-model')\n",
        "saved_model.summary()"
      ],
      "metadata": {
        "colab": {
          "base_uri": "https://localhost:8080/"
        },
        "id": "odRT5x_Moaxz",
        "outputId": "71b77e21-a6c1-493a-e0dc-ef87560b492c"
      },
      "execution_count": 19,
      "outputs": [
        {
          "output_type": "stream",
          "name": "stdout",
          "text": [
            "Model: \"sequential_1\"\n",
            "_________________________________________________________________\n",
            " Layer (type)                Output Shape              Param #   \n",
            "=================================================================\n",
            " flatten_1 (Flatten)         (None, 784)               0         \n",
            "                                                                 \n",
            " dense_9 (Dense)             (None, 64)                50240     \n",
            "                                                                 \n",
            " batch_normalization (Batch  (None, 64)                256       \n",
            " Normalization)                                                  \n",
            "                                                                 \n",
            " activation (Activation)     (None, 64)                0         \n",
            "                                                                 \n",
            " dense_10 (Dense)            (None, 32)                2080      \n",
            "                                                                 \n",
            " batch_normalization_1 (Bat  (None, 32)                128       \n",
            " chNormalization)                                                \n",
            "                                                                 \n",
            " activation_1 (Activation)   (None, 32)                0         \n",
            "                                                                 \n",
            " dense_11 (Dense)            (None, 10)                330       \n",
            "                                                                 \n",
            "=================================================================\n",
            "Total params: 53034 (207.16 KB)\n",
            "Trainable params: 52842 (206.41 KB)\n",
            "Non-trainable params: 192 (768.00 Byte)\n",
            "_________________________________________________________________\n"
          ]
        }
      ]
    },
    {
      "cell_type": "code",
      "source": [
        "#모델 검증 (HDF5 포맷)\n",
        "loss, acc=h5_model.evaluate(x_test, y_test, verbose=0)\n",
        "print(f'h5_model] loss: {loss:.5f}, acc: {acc:.5f}')\n",
        "\n",
        "#모델 검증 (SavedModel 포맷)\n",
        "loss, acc=saved_model.evaluate(x_test, y_test, verbose= 0)\n",
        "print(f'saved_model] loss: {loss:.5f}, acc: {acc:.5f}')"
      ],
      "metadata": {
        "colab": {
          "base_uri": "https://localhost:8080/"
        },
        "id": "yfYP6NGXovVR",
        "outputId": "9af7e9ff-1c4e-44c0-8c68-f9139799de82"
      },
      "execution_count": 20,
      "outputs": [
        {
          "output_type": "stream",
          "name": "stdout",
          "text": [
            "h5_model] loss: 0.07669, acc: 0.97630\n",
            "saved_model] loss: 0.07669, acc: 0.97630\n"
          ]
        }
      ]
    },
    {
      "cell_type": "markdown",
      "source": [
        "=> SavedModel 형식으로 저장 및 복원된 모델의 성능을 확인하면, HDF5 형식으로 저장 및 복원된 모델과 동일한 성능을 나타낸다."
      ],
      "metadata": {
        "id": "E7IxY1-Doyv2"
      }
    },
    {
      "cell_type": "markdown",
      "source": [
        "## **07. 복잡한 모델 생성**\n",
        "\n",
        "### **7-1. 함수형 API**\n",
        "\n",
        "함수 형태로 딥러닝 모델을 정의하면, 다양한 모델 구조를 구현할 수 있다. 여러 층을시퀀스 형태로 연결하는 Sequential API와 다르게, Functional API는 복잡한 구조의 모델을 정의할 수 있다.\n",
        "\n"
      ],
      "metadata": {
        "id": "5m4zIc_do9F7"
      }
    },
    {
      "cell_type": "markdown",
      "source": [
        "* Sequential API로 구현한 mnist 분류기 모델을 함수형 API로 동일하게 구현한 코드\n",
        "* Input 레이어 정의"
      ],
      "metadata": {
        "id": "om8EewUJpcKg"
      }
    },
    {
      "cell_type": "code",
      "source": [
        "import tensorflow as tf\n",
        "\n",
        "#모델의 레이어를 체인 구조로 연결 input 레이어 정의\n",
        "input_layer=tf.keras.Input(shape=(28, 28), name='InputLayer')\n",
        "\n",
        "#모델의 레이어를 체인 구조로 연결\n",
        "x1=tf.keras.layers.Flatten(name='Flatten')(input_layer)\n",
        "x2=tf.keras.layers.Dense(256, activation='relu', name='Dense1')(x1)\n",
        "x3=tf.keras.layers.Dense(64, activation='relu', name='Dense2')(x2)\n",
        "x4=tf.keras.layers.Dense(10, activation='softmax', name='OutputLayer')(x3)"
      ],
      "metadata": {
        "id": "vaIz_cg9oyV7"
      },
      "execution_count": 21,
      "outputs": []
    },
    {
      "cell_type": "markdown",
      "source": [
        "* 레이어마다 name 매개변수로 이름을 부여할 수 있다."
      ],
      "metadata": {
        "id": "77k7JiGFppQO"
      }
    },
    {
      "cell_type": "code",
      "source": [
        "#모델 생성\n",
        "func_model=tf.keras.Model(inputs=input_layer, outputs=x4, name='FunctionalModel')\n",
        "\n",
        "#모델 요약\n",
        "func_model.summary() #name 위에 설정하면 summary에 출력됨"
      ],
      "metadata": {
        "colab": {
          "base_uri": "https://localhost:8080/"
        },
        "id": "bDBOl_0BpZT8",
        "outputId": "f2bcd19a-a41d-448c-f8c4-576d51016fb3"
      },
      "execution_count": 22,
      "outputs": [
        {
          "output_type": "stream",
          "name": "stdout",
          "text": [
            "Model: \"FunctionalModel\"\n",
            "_________________________________________________________________\n",
            " Layer (type)                Output Shape              Param #   \n",
            "=================================================================\n",
            " InputLayer (InputLayer)     [(None, 28, 28)]          0         \n",
            "                                                                 \n",
            " Flatten (Flatten)           (None, 784)               0         \n",
            "                                                                 \n",
            " Dense1 (Dense)              (None, 256)               200960    \n",
            "                                                                 \n",
            " Dense2 (Dense)              (None, 64)                16448     \n",
            "                                                                 \n",
            " OutputLayer (Dense)         (None, 10)                650       \n",
            "                                                                 \n",
            "=================================================================\n",
            "Total params: 218058 (851.79 KB)\n",
            "Trainable params: 218058 (851.79 KB)\n",
            "Non-trainable params: 0 (0.00 Byte)\n",
            "_________________________________________________________________\n"
          ]
        }
      ]
    },
    {
      "cell_type": "markdown",
      "source": [
        "* 모델의 구조도 시각화"
      ],
      "metadata": {
        "id": "x-zR8PHTp3Fq"
      }
    },
    {
      "cell_type": "code",
      "source": [
        "from tensorflow.keras.utils import plot_model\n",
        "\n",
        "#구조도 시각화\n",
        "plot_model(func_model, show_shapes=True, show_layer_names=True, to_file='model.png')"
      ],
      "metadata": {
        "colab": {
          "base_uri": "https://localhost:8080/",
          "height": 533
        },
        "id": "8vCUti9Wpa3z",
        "outputId": "df6e5049-8e1a-45b4-927a-1f3b1da2d767"
      },
      "execution_count": 23,
      "outputs": [
        {
          "output_type": "execute_result",
          "data": {
            "image/png": "[encoded data removed]",
            "text/plain": [
              "<IPython.core.display.Image object>"
            ]
          },
          "metadata": {},
          "execution_count": 23
        }
      ]
    },
    {
      "cell_type": "markdown",
      "source": [
        "=> plot_model()에 모델을 지정하면 구조도가 출력된다."
      ],
      "metadata": {
        "id": "R8c2SqYQp9-g"
      }
    },
    {
      "cell_type": "markdown",
      "source": [
        "* 함수형 API로 생성한 모델도 Sequential API로 생성한 모델과 동일한 방식으로 훈련할 수 있다."
      ],
      "metadata": {
        "id": "uAf6wunGqF3I"
      }
    },
    {
      "cell_type": "code",
      "source": [
        "#컴파일\n",
        "func_model.compile(optimizer='adam', loss='sparse_categorical_crossentropy', metrics=['accuracy'])\n",
        "\n",
        "#훈련\n",
        "func_model.fit(x_train, y_train, epochs=3)\n",
        "\n",
        "#검증\n",
        "loss, acc=func_model.evaluate(x_test, y_test, verbose=0)\n",
        "print(f'Functional Model] loss: {loss:.5f}, acc: {acc:.5f}')"
      ],
      "metadata": {
        "colab": {
          "base_uri": "https://localhost:8080/"
        },
        "id": "4XUnMA-Fp1Zy",
        "outputId": "ae342dbb-2509-403e-a2c2-1d89e9768cb6"
      },
      "execution_count": 24,
      "outputs": [
        {
          "output_type": "stream",
          "name": "stdout",
          "text": [
            "Epoch 1/3\n",
            "1875/1875 [==============================] - 17s 8ms/step - loss: 0.2126 - accuracy: 0.9380\n",
            "Epoch 2/3\n",
            "1875/1875 [==============================] - 16s 9ms/step - loss: 0.0877 - accuracy: 0.9734\n",
            "Epoch 3/3\n",
            "1875/1875 [==============================] - 13s 7ms/step - loss: 0.0615 - accuracy: 0.9808\n",
            "Functional Model] loss: 0.09748, acc: 0.97000\n"
          ]
        }
      ]
    },
    {
      "cell_type": "markdown",
      "source": [
        "### **7-2. 모델 서브클래싱**\n",
        "\n",
        "텐서틀로 케라스는 Model 클래스를 제공하고 이를 기반으로 딥러닝 모델을 구현하고 있다. 이 클래스는 직접 상속받아 사용자가 직접 서브 클래스로 딥러닝 모델을 만들 수도 있다.\n",
        "\n",
        "* Model Subclassing으로 모델 인스턴스를 생성하기 위해서는 tf.keras.Model을 상속받아 생성하고자 하는 모델 클래스를 구현한다."
      ],
      "metadata": {
        "id": "pIzDTO0NrbM0"
      }
    },
    {
      "cell_type": "code",
      "source": [
        "class MyModel(tf.keras.Model):\n",
        "  def __init__(self):\n",
        "    super(MyModel, self).__init__()\n",
        "    #초기값 설정\n",
        "    self.flatten=tf.keras.layers.Flatten()\n",
        "    self.dense1=tf.keras.layers.Dense(256, activation='relu')\n",
        "    self.dense2=tf.keras.layers.Dense(64, activation='relu')\n",
        "    self.dense3=tf.keras.layers.Dense(10, activation='softmax')\n",
        "\n",
        "  #method overiding\n",
        "  #훈련용 함수 정의\n",
        "  #x는 input\n",
        "  def call(self, x):\n",
        "    x=self.flatten(x)\n",
        "    x=self.dense1(x)\n",
        "    x=self.dense2(x)\n",
        "    x=self.dense3(x)\n",
        "    return x"
      ],
      "metadata": {
        "id": "h9vNvANoraww"
      },
      "execution_count": 25,
      "outputs": []
    },
    {
      "cell_type": "markdown",
      "source": [
        "=> call 함수를 메소드 오버라이딩으로 구현한다. call() 메소드는 fit() 메소드가 호출되어 훈련하는 경우 호출될 함수다."
      ],
      "metadata": {
        "id": "0U3xI-xrr5m0"
      }
    },
    {
      "cell_type": "code",
      "source": [
        "#모델 생성\n",
        "mymodel=MyModel()\n",
        "\n",
        "#모델의 이름 설정\n",
        "mymodel._name='subclass_model'\n",
        "\n",
        "#모델 input 정의\n",
        "mymodel(tf.keras.layers.Input(shape=(28, 28)))\n",
        "\n",
        "#모델 요약\n",
        "mymodel.summary()"
      ],
      "metadata": {
        "colab": {
          "base_uri": "https://localhost:8080/"
        },
        "id": "DdHoSEffr4td",
        "outputId": "e31a490c-900d-40c2-a5df-33a75b993774"
      },
      "execution_count": 26,
      "outputs": [
        {
          "output_type": "stream",
          "name": "stdout",
          "text": [
            "Model: \"subclass_model\"\n",
            "_________________________________________________________________\n",
            " Layer (type)                Output Shape              Param #   \n",
            "=================================================================\n",
            " flatten_3 (Flatten)         multiple                  0         \n",
            "                                                                 \n",
            " dense_15 (Dense)            multiple                  200960    \n",
            "                                                                 \n",
            " dense_16 (Dense)            multiple                  16448     \n",
            "                                                                 \n",
            " dense_17 (Dense)            multiple                  650       \n",
            "                                                                 \n",
            "=================================================================\n",
            "Total params: 218058 (851.79 KB)\n",
            "Trainable params: 218058 (851.79 KB)\n",
            "Non-trainable params: 0 (0.00 Byte)\n",
            "_________________________________________________________________\n"
          ]
        }
      ]
    },
    {
      "cell_type": "markdown",
      "source": [
        "* tf.keras.Model을 상속받아 구현한 모델인 MyModel을 생성자로 인스턴스를 생성한다. 모델에 이름을 부여하고 싶다면 모델 인스턴스의 _name에 이름을 지정한다.\n",
        "* 생성자로 객체를 생성해 저장한 mymodel 변수에 바로 summary()로 요약 출력하는 것은 불가는 하다. input_shape이 정의되지 않았기 때문에 전체 모델의 구조를 생성해내지 못하기 때문이다."
      ],
      "metadata": {
        "id": "gb8l4RRDsLu3"
      }
    },
    {
      "cell_type": "code",
      "source": [
        "#컴파일\n",
        "mymodel.compile(optimizer='adam', loss='sparse_categorical_crossentropy', metrics=['accuracy'])\n",
        "\n",
        "#훈련\n",
        "mymodel.fit(x_train, y_train, epochs=3)\n",
        "\n",
        "#검증\n",
        "loss, acc=mymodel.evaluate(x_test, y_test, verbose=0)\n",
        "print(f'Subclassing Model] loss: {loss:.5f}, acc: {acc:.5f}')"
      ],
      "metadata": {
        "colab": {
          "base_uri": "https://localhost:8080/"
        },
        "id": "OhfcLh4VsEVg",
        "outputId": "fff998d4-9a75-4d56-9c6e-b309bac2c0b6"
      },
      "execution_count": 27,
      "outputs": [
        {
          "output_type": "stream",
          "name": "stdout",
          "text": [
            "Epoch 1/3\n",
            "1875/1875 [==============================] - 13s 6ms/step - loss: 0.2067 - accuracy: 0.9385\n",
            "Epoch 2/3\n",
            "1875/1875 [==============================] - 14s 8ms/step - loss: 0.0865 - accuracy: 0.9743\n",
            "Epoch 3/3\n",
            "1875/1875 [==============================] - 14s 8ms/step - loss: 0.0610 - accuracy: 0.9808\n",
            "Subclassing Model] loss: 0.07999, acc: 0.97680\n"
          ]
        }
      ]
    },
    {
      "cell_type": "markdown",
      "source": [
        "### **7-3. 서브클래싱 모델 파라미터를 활용한 생성**\n",
        "\n",
        "Model Subclassing으로 생성하는 장점은 생성자 파라미터로 모델 내부 레이어의 하이퍼파라미터를 지정할 수 있다는 점이다."
      ],
      "metadata": {
        "id": "Nj18eMIwshqU"
      }
    },
    {
      "cell_type": "markdown",
      "source": [
        "* 모델의 생성자 파라미터를 추가해 동적으로 레이어의 유닛 개수를 초기화하는 예제"
      ],
      "metadata": {
        "id": "oOrvnsoJsrbJ"
      }
    },
    {
      "cell_type": "code",
      "source": [
        "class MyModel(tf.keras.Model):\n",
        "\n",
        "  #생성자 파라미터 추가\n",
        "  def __init__(self, units, num_classes):\n",
        "    super(MyModel, self).__init__()\n",
        "    #초기값 설정\n",
        "    self.flatten=tf.keras.layers.Flatten()\n",
        "    self.dense1=tf.keras.layers.Dense(units, activation='relu')\n",
        "    self.dense2=tf.keras.layers.Dense(units/4, activation='relu')\n",
        "    self.dense3=tf.keras.layers.Dense(num_classes, activation='softmax')\n",
        "\n",
        "  #class overiding\n",
        "  #훈련용 함수 정의\n",
        "  #x는 input\n",
        "  def call(self, x):\n",
        "    x=self.flatten(x)\n",
        "    x=self.dense1(x)\n",
        "    x=self.dense2(x)\n",
        "    x=self.dense3(x)\n",
        "    return x"
      ],
      "metadata": {
        "id": "tr90mBF_sJ-7"
      },
      "execution_count": 29,
      "outputs": []
    },
    {
      "cell_type": "markdown",
      "source": [
        "* 모델의 생성자 파라미터로 기준이 되는 unit의 개수를 입력받아 Dense 레이어의 유닛 개수를 계산하여 설정"
      ],
      "metadata": {
        "id": "tPaUavPSsxVf"
      }
    },
    {
      "cell_type": "code",
      "source": [
        "#모델 생성\n",
        "mymodel=MyModel(256, 10)\n",
        "\n",
        "#모델 input 정의\n",
        "mymodel(tf.keras.layers.Input(shape=(28, 28)))\n",
        "\n",
        "#모델 요약\n",
        "mymodel.summary()"
      ],
      "metadata": {
        "colab": {
          "base_uri": "https://localhost:8080/"
        },
        "id": "aJ_vB15wstxE",
        "outputId": "d9ced33f-2021-4907-83eb-0dac728f288b"
      },
      "execution_count": 30,
      "outputs": [
        {
          "output_type": "stream",
          "name": "stdout",
          "text": [
            "Model: \"my_model_1\"\n",
            "_________________________________________________________________\n",
            " Layer (type)                Output Shape              Param #   \n",
            "=================================================================\n",
            " flatten_4 (Flatten)         multiple                  0         \n",
            "                                                                 \n",
            " dense_18 (Dense)            multiple                  200960    \n",
            "                                                                 \n",
            " dense_19 (Dense)            multiple                  16448     \n",
            "                                                                 \n",
            " dense_20 (Dense)            multiple                  650       \n",
            "                                                                 \n",
            "=================================================================\n",
            "Total params: 218058 (851.79 KB)\n",
            "Trainable params: 218058 (851.79 KB)\n",
            "Non-trainable params: 0 (0.00 Byte)\n",
            "_________________________________________________________________\n"
          ]
        }
      ]
    },
    {
      "cell_type": "markdown",
      "source": [
        "* summary()로 요약한 결과를 확인해보면 동적으로 설정한 레이어의 파라미터가 초기화되었음을 알 수 있다."
      ],
      "metadata": {
        "id": "rlgkGHTcs3AR"
      }
    },
    {
      "cell_type": "code",
      "source": [
        "#컴파일\n",
        "mymodel.compile(optimizer='adam', loss='sparse_categorical_crossentropy', metrics=['accuracy'])\n",
        "\n",
        "#훈련\n",
        "mymodel.fit(x_train, y_train, epochs=3)\n",
        "\n",
        "#검증\n",
        "loss, acc=mymodel.evaluate(x_test, y_test, verbose=0)\n",
        "print(f'Subclassing Model w.parameters] loss: {loss:.5f}, acc: {acc:.5f}')"
      ],
      "metadata": {
        "colab": {
          "base_uri": "https://localhost:8080/"
        },
        "id": "PV5ge-mQst5P",
        "outputId": "9164c85a-2abb-4893-cbc4-203046ba1d2a"
      },
      "execution_count": 31,
      "outputs": [
        {
          "output_type": "stream",
          "name": "stdout",
          "text": [
            "Epoch 1/3\n",
            "1875/1875 [==============================] - 15s 7ms/step - loss: 0.2116 - accuracy: 0.9376\n",
            "Epoch 2/3\n",
            "1875/1875 [==============================] - 17s 9ms/step - loss: 0.0889 - accuracy: 0.9735\n",
            "Epoch 3/3\n",
            "1875/1875 [==============================] - 16s 9ms/step - loss: 0.0606 - accuracy: 0.9812\n",
            "Subclassing Model w.parameters] loss: 0.09074, acc: 0.97060\n"
          ]
        }
      ]
    }
  ]
}