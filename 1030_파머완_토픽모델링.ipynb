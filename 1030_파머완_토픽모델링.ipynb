{
  "cells": [
    {
      "cell_type": "markdown",
      "metadata": {
        "id": "view-in-github",
        "colab_type": "text"
      },
      "source": [
        "<a href=\"https://colab.research.google.com/github/hyehyunseo/ESAA_OB/blob/main/1030_%ED%8C%8C%EB%A8%B8%EC%99%84_%ED%86%A0%ED%94%BD%EB%AA%A8%EB%8D%B8%EB%A7%81.ipynb\" target=\"_parent\"><img src=\"https://colab.research.google.com/assets/colab-badge.svg\" alt=\"Open In Colab\"/></a>"
      ]
    },
    {
      "cell_type": "markdown",
      "metadata": {
        "id": "Epck3q9_tpJA"
      },
      "source": [
        "# **[개념 정리]**\n",
        "**10/30(월) 과제 - 파이썬 머신러닝 완벽 가이드 ch8. 6 ~ 9 (7 제외)  pg. 512 ~ 516, 529 ~ 543 필사**\n",
        "\n",
        "---"
      ]
    },
    {
      "cell_type": "markdown",
      "metadata": {
        "id": "TdvQ1sPyzTPo"
      },
      "source": [
        "## **06. 토픽모델링 (topic modeling) - 20 뉴스 그룹**\n",
        "\n",
        "토픽 모델링이란 문서 집합에 숨어있는 주제를 찾아내는 것이다.\n",
        "* 토픽 모델링을 적용하여 많은 양의 문서에서 숨어있는 중요 주제를 효과적으로 찾아낼 수 있다.\n",
        "* 머신러닝 기반의 토픽 모델은 숨겨진 주제를 효과적으로 표현할 수 있는 중심 단어를 함축적으로 추출한다.\n",
        "\n",
        "\n",
        "\n",
        "\n",
        "[토픽 모델링에서 자주 사용되는 기법]\n",
        "* LSA\n",
        "* LDA - 차원 축소의 LDA와 다름에 유의"
      ]
    },
    {
      "cell_type": "markdown",
      "metadata": {
        "id": "-K-CKrI_26Vm"
      },
      "source": [
        "* 20 뉴스 그룹 데이터 세트를 이용해 적용"
      ]
    },
    {
      "cell_type": "code",
      "execution_count": 1,
      "metadata": {
        "id": "NQX7mn22tlqY"
      },
      "outputs": [],
      "source": [
        "from sklearn.datasets import fetch_20newsgroups\n",
        "from sklearn.feature_extraction.text import CountVectorizer\n",
        "from sklearn.decomposition import LatentDirichletAllocation"
      ]
    },
    {
      "cell_type": "code",
      "execution_count": 2,
      "metadata": {
        "colab": {
          "base_uri": "https://localhost:8080/"
        },
        "id": "6qNupgS_24Yv",
        "outputId": "b4ea94eb-7fe4-4062-c11b-670ac13404fe"
      },
      "outputs": [
        {
          "output_type": "stream",
          "name": "stdout",
          "text": [
            "CountVectorizer Shape: (7862, 1000)\n"
          ]
        }
      ],
      "source": [
        "# 모토사이클, 야구, 그래픽스, 윈도우즈, 중동, 기독교, 전자공학, 의학 9개 주제를 추출\n",
        "cats = ['rec.motorcycles', 'rec.sport.baseball', 'comp.graphics', 'comp.windows.x', 'talk.politics.mideast', 'soc.religion.christian', 'sci.electronics', 'sci.med']\n",
        "\n",
        "# 위에서 cats 변수로 기재된 카테고리만 추출. featch_20newsgroups( ) 의 categories에 cats 입력\n",
        "news_df = fetch_20newsgroups(subset='all', remove = ('headers', 'footers', 'quotes'), categories=cats, random_state=0)\n",
        "\n",
        "# LDA는 count기반의 벡터화만 적용\n",
        "count_vect = CountVectorizer(max_df=0.95, max_features=1000, min_df=2, stop_words='english', ngram_range=(1,2))\n",
        "\n",
        "feat_vect = count_vect.fit_transform(news_df.data)\n",
        "print('CountVectorizer Shape:', feat_vect.shape)"
      ]
    },
    {
      "cell_type": "markdown",
      "metadata": {
        "id": "qOGeMGFY3Ojt"
      },
      "source": [
        "=> CountVectorizer 객체 변수인feat_vect 모두 7862개의 문서가 1000개의 피처로 구성된 행렬 데이터이다. 이렇게 피처벡터화된 데이터 세트를 기반으로 LDA 토픽 모델링을 수행한다.\n",
        "\n",
        "=> 토픽의 개수는 위의 뉴스 그룹에서 추출한 주제와 동일하게 8개로 정한다."
      ]
    },
    {
      "cell_type": "code",
      "execution_count": 3,
      "metadata": {
        "colab": {
          "base_uri": "https://localhost:8080/",
          "height": 75
        },
        "id": "T-dMeIke3Huj",
        "outputId": "294b7432-3d38-4b58-9216-d9971051eb97"
      },
      "outputs": [
        {
          "output_type": "execute_result",
          "data": {
            "text/plain": [
              "LatentDirichletAllocation(n_components=8, random_state=0)"
            ],
            "text/html": [
              "<style>#sk-container-id-1 {color: black;background-color: white;}#sk-container-id-1 pre{padding: 0;}#sk-container-id-1 div.sk-toggleable {background-color: white;}#sk-container-id-1 label.sk-toggleable__label {cursor: pointer;display: block;width: 100%;margin-bottom: 0;padding: 0.3em;box-sizing: border-box;text-align: center;}#sk-container-id-1 label.sk-toggleable__label-arrow:before {content: \"▸\";float: left;margin-right: 0.25em;color: #696969;}#sk-container-id-1 label.sk-toggleable__label-arrow:hover:before {color: black;}#sk-container-id-1 div.sk-estimator:hover label.sk-toggleable__label-arrow:before {color: black;}#sk-container-id-1 div.sk-toggleable__content {max-height: 0;max-width: 0;overflow: hidden;text-align: left;background-color: #f0f8ff;}#sk-container-id-1 div.sk-toggleable__content pre {margin: 0.2em;color: black;border-radius: 0.25em;background-color: #f0f8ff;}#sk-container-id-1 input.sk-toggleable__control:checked~div.sk-toggleable__content {max-height: 200px;max-width: 100%;overflow: auto;}#sk-container-id-1 input.sk-toggleable__control:checked~label.sk-toggleable__label-arrow:before {content: \"▾\";}#sk-container-id-1 div.sk-estimator input.sk-toggleable__control:checked~label.sk-toggleable__label {background-color: #d4ebff;}#sk-container-id-1 div.sk-label input.sk-toggleable__control:checked~label.sk-toggleable__label {background-color: #d4ebff;}#sk-container-id-1 input.sk-hidden--visually {border: 0;clip: rect(1px 1px 1px 1px);clip: rect(1px, 1px, 1px, 1px);height: 1px;margin: -1px;overflow: hidden;padding: 0;position: absolute;width: 1px;}#sk-container-id-1 div.sk-estimator {font-family: monospace;background-color: #f0f8ff;border: 1px dotted black;border-radius: 0.25em;box-sizing: border-box;margin-bottom: 0.5em;}#sk-container-id-1 div.sk-estimator:hover {background-color: #d4ebff;}#sk-container-id-1 div.sk-parallel-item::after {content: \"\";width: 100%;border-bottom: 1px solid gray;flex-grow: 1;}#sk-container-id-1 div.sk-label:hover label.sk-toggleable__label {background-color: #d4ebff;}#sk-container-id-1 div.sk-serial::before {content: \"\";position: absolute;border-left: 1px solid gray;box-sizing: border-box;top: 0;bottom: 0;left: 50%;z-index: 0;}#sk-container-id-1 div.sk-serial {display: flex;flex-direction: column;align-items: center;background-color: white;padding-right: 0.2em;padding-left: 0.2em;position: relative;}#sk-container-id-1 div.sk-item {position: relative;z-index: 1;}#sk-container-id-1 div.sk-parallel {display: flex;align-items: stretch;justify-content: center;background-color: white;position: relative;}#sk-container-id-1 div.sk-item::before, #sk-container-id-1 div.sk-parallel-item::before {content: \"\";position: absolute;border-left: 1px solid gray;box-sizing: border-box;top: 0;bottom: 0;left: 50%;z-index: -1;}#sk-container-id-1 div.sk-parallel-item {display: flex;flex-direction: column;z-index: 1;position: relative;background-color: white;}#sk-container-id-1 div.sk-parallel-item:first-child::after {align-self: flex-end;width: 50%;}#sk-container-id-1 div.sk-parallel-item:last-child::after {align-self: flex-start;width: 50%;}#sk-container-id-1 div.sk-parallel-item:only-child::after {width: 0;}#sk-container-id-1 div.sk-dashed-wrapped {border: 1px dashed gray;margin: 0 0.4em 0.5em 0.4em;box-sizing: border-box;padding-bottom: 0.4em;background-color: white;}#sk-container-id-1 div.sk-label label {font-family: monospace;font-weight: bold;display: inline-block;line-height: 1.2em;}#sk-container-id-1 div.sk-label-container {text-align: center;}#sk-container-id-1 div.sk-container {/* jupyter's `normalize.less` sets `[hidden] { display: none; }` but bootstrap.min.css set `[hidden] { display: none !important; }` so we also need the `!important` here to be able to override the default hidden behavior on the sphinx rendered scikit-learn.org. See: https://github.com/scikit-learn/scikit-learn/issues/21755 */display: inline-block !important;position: relative;}#sk-container-id-1 div.sk-text-repr-fallback {display: none;}</style><div id=\"sk-container-id-1\" class=\"sk-top-container\"><div class=\"sk-text-repr-fallback\"><pre>LatentDirichletAllocation(n_components=8, random_state=0)</pre><b>In a Jupyter environment, please rerun this cell to show the HTML representation or trust the notebook. <br />On GitHub, the HTML representation is unable to render, please try loading this page with nbviewer.org.</b></div><div class=\"sk-container\" hidden><div class=\"sk-item\"><div class=\"sk-estimator sk-toggleable\"><input class=\"sk-toggleable__control sk-hidden--visually\" id=\"sk-estimator-id-1\" type=\"checkbox\" checked><label for=\"sk-estimator-id-1\" class=\"sk-toggleable__label sk-toggleable__label-arrow\">LatentDirichletAllocation</label><div class=\"sk-toggleable__content\"><pre>LatentDirichletAllocation(n_components=8, random_state=0)</pre></div></div></div></div></div>"
            ]
          },
          "metadata": {},
          "execution_count": 3
        }
      ],
      "source": [
        "lda = LatentDirichletAllocation(n_components=8, random_state=0)\n",
        "lda.fit(feat_vect)"
      ]
    },
    {
      "cell_type": "markdown",
      "metadata": {
        "id": "7GxUjojx3fXz"
      },
      "source": [
        "=> LatentDirichletAllocation 객체는 components_ 속성값을 가지게 된다. components는 개별 토픽별로 각 word 피처가 얼마나 많이 그 토픽에 할당됐는지에 대한 수치를 가진다. 높은 값일수록 해당 word 피처는 그 토픽의 중심 word가 된다."
      ]
    },
    {
      "cell_type": "code",
      "execution_count": 4,
      "metadata": {
        "colab": {
          "base_uri": "https://localhost:8080/"
        },
        "id": "gmX8nMkv3eL4",
        "outputId": "1aac18b0-6db7-438a-91fb-1c29ddc34265"
      },
      "outputs": [
        {
          "output_type": "stream",
          "name": "stdout",
          "text": [
            "(8, 1000)\n"
          ]
        },
        {
          "output_type": "execute_result",
          "data": {
            "text/plain": [
              "array([[3.60992018e+01, 1.35626798e+02, 2.15751867e+01, ...,\n",
              "        3.02911688e+01, 8.66830093e+01, 6.79285199e+01],\n",
              "       [1.25199920e-01, 1.44401815e+01, 1.25045596e-01, ...,\n",
              "        1.81506995e+02, 1.25097844e-01, 9.39593286e+01],\n",
              "       [3.34762663e+02, 1.25176265e-01, 1.46743299e+02, ...,\n",
              "        1.25105772e-01, 3.63689741e+01, 1.25025218e-01],\n",
              "       ...,\n",
              "       [3.60204965e+01, 2.08640688e+01, 4.29606813e+00, ...,\n",
              "        1.45056650e+01, 8.33854413e+00, 1.55690009e+01],\n",
              "       [1.25128711e-01, 1.25247756e-01, 1.25005143e-01, ...,\n",
              "        9.17278769e+01, 1.25177668e-01, 3.74575887e+01],\n",
              "       [5.49258690e+01, 4.47009532e+00, 9.88524814e+00, ...,\n",
              "        4.87048440e+01, 1.25034678e-01, 1.25074632e-01]])"
            ]
          },
          "metadata": {},
          "execution_count": 4
        }
      ],
      "source": [
        "print(lda.components_.shape)\n",
        "lda.components_"
      ]
    },
    {
      "cell_type": "markdown",
      "metadata": {
        "id": "aGDKeD6T33dc"
      },
      "source": [
        "=> components는 array[8, 4000]으로 구성되어 있다. 8개의 토픽별로 1000개의 word 피처가 해당 토픽별로 연관도 값을 가지고 있다.\n",
        "\n",
        "=>  즉 , components_array의 0번째 row, 10번째 col에 있는 값 : Topic #0에 대해서 피처 벡터화된 행렬에서 10번째 칼럼에 해당하는 피처가 Topic #0에 연관되는 수치 값 가지고 있다"
      ]
    },
    {
      "cell_type": "markdown",
      "metadata": {
        "id": "gZ1Ju33z4Kc4"
      },
      "source": [
        "* display_topics 함수"
      ]
    },
    {
      "cell_type": "code",
      "execution_count": 5,
      "metadata": {
        "colab": {
          "base_uri": "https://localhost:8080/"
        },
        "id": "4Qv5eayR3zLH",
        "outputId": "92f3a99f-adf9-4607-fe21-118006395e15"
      },
      "outputs": [
        {
          "output_type": "stream",
          "name": "stdout",
          "text": [
            "Topic # 0\n",
            "year 10 game medical health team 12 20 disease cancer 1993 games years patients good\n",
            "Topic # 1\n",
            "don just like know people said think time ve didn right going say ll way\n",
            "Topic # 2\n",
            "image file jpeg program gif images output format files color entry 00 use bit 03\n",
            "Topic # 3\n",
            "like know don think use does just good time book read information people used post\n",
            "Topic # 4\n",
            "armenian israel armenians jews turkish people israeli jewish government war dos dos turkey arab armenia 000\n",
            "Topic # 5\n",
            "edu com available graphics ftp data pub motif mail widget software mit information version sun\n",
            "Topic # 6\n",
            "god people jesus church believe christ does christian say think christians bible faith sin life\n",
            "Topic # 7\n",
            "use dos thanks windows using window does display help like problem server need know run\n"
          ]
        }
      ],
      "source": [
        "def display_topics(model, feature_names, no_top_words):\n",
        "  for topic_index, topic in enumerate(model.components_):\n",
        "    print('Topic #', topic_index)\n",
        "\n",
        "    # components_ array에서 가장 값이 큰 순으로 정렬했을 때, 그 값의 array 인덱스를 반환.\n",
        "    topic_word_indexes = topic.argsort()[::-1]\n",
        "    top_indexes=topic_word_indexes[:no_top_words]\n",
        "\n",
        "    # top_indexes 대상인 인덱스별로 feature_names에 해당하는 word feature 추출 후 joint으로 concat\n",
        "    feature_concat = ' '.join([feature_names[i] for i in top_indexes])\n",
        "    print(feature_concat)\n",
        "\n",
        "# CountVectorizer객체 내의 전체 word의 명칭을 get_features_names()를 통해 추출\n",
        "feature_names = count_vect.get_feature_names_out()\n",
        "\n",
        "# 토빅별 가장 연관도가 높은 word를 15개만 추출\n",
        "display_topics(lda, feature_names, 15)"
      ]
    },
    {
      "cell_type": "markdown",
      "metadata": {
        "id": "y8jJ1l0F4Q2C"
      },
      "source": [
        "=> topic0의 경우 명확하지 않고 일반적인 단어가 주를 이룸\n",
        "\n",
        "=> topic1의 경우 명확하게 컴퓨터 그래픽스 영역의 주제어가 추출됨\n",
        "\n",
        "=> topic2 : 기독교, topic3 : 의학, topic4 : 윈도우 운영체제, topic5 :일반적인 단어, topic6: 중동 분쟁, topic 7: 애매하지만 윈도우 운영 체제와 관련된 주제어가 일부 추출"
      ]
    },
    {
      "cell_type": "markdown",
      "metadata": {
        "id": "1uwLt5Z-4lfr"
      },
      "source": [
        "## **08. 문서 유사도**"
      ]
    },
    {
      "cell_type": "markdown",
      "metadata": {
        "id": "kR6Icbnn4q_k"
      },
      "source": [
        "### **1) 문서 유사도 측정 방법 - 코사인 유사도**\n",
        "\n",
        "문서와 문서 간의 유사도 비교는 일반적으로 코사인 유사도를 사용한다.\n",
        "* 코사인유사도는 벡터와 벡터간의 유사도를 비교할 때 벡터의 크기보다는 벡터의 상호 방향성이 얼마나 유사한지에 기반한다.\n",
        "* 즉, 코사인 유사도는 두 벡터 사이의 사잇각을 구해서 얼마나 유사한지 수치로 적용한 것이다.\n",
        "\n",
        "![image.png](data:image/png;base64,iVBORw0KGgoAAAANSUhEUgAAAQ8AAADeCAYAAAAjOoUAAAAAAXNSR0IArs4c6QAAAARnQU1BAACxjwv8YQUAAAAJcEhZcwAADsMAAA7DAcdvqGQAAABhaVRYdFNuaXBNZXRhZGF0YQAAAAAAeyJjbGlwUG9pbnRzIjpbeyJ4IjowLCJ5IjowfSx7IngiOjI3MSwieSI6MH0seyJ4IjoyNzEsInkiOjIyMn0seyJ4IjowLCJ5IjoyMjJ9XX3sKcUDAABBe0lEQVR4Xu1dB4AVRbY9L08gB0UQBAMqiiKu+l3FtAZEFEWQJEHMSvIbvsqad3VN6+qaQDEAEk2rwGJAF3UVRRRRUcSEBMlx4ov/nqpX83qGmWF4M8DM6zpvarq7urq6uqruqVvZkxDAwsLCYifhTR4tLCwsdgqWPCwsLNKCJQ8LC4u0YMnDwsIiLVjysLCwSAuWPCwsLNKCJQ8LC4u0YMnDwsIiLVjysLCwSAuWPCwsLNKCJQ8LC4u0YMnDwsIiLVjysLCwSAuWPCwsLNKCJQ8LC4u0YMnDwsIiLVjysLCwSAuWPCwsLNKCXYbQIiNgsrHH41FHZ7Y2dlVBus+5Ea7QPJghyhoL96Aq6W3zxc7DVeQRj8eVscg8ONOXxhCBSfsdwbhzPmtROTKePJgRCgsLMWPGDOTn5ydtLTIBTrIgYrEYIpGIOtKO5+bejgjBEAeNObeoHK7QPEga119/PdasWWPrsXUcFGxjCKan85rgOYWf6V5cXJy0rRz0h+7D4bB63uaTHaNWkYfJADyy9OCxPGNKh0Qijlg8hmgkmrqvfCgNsUZ2IAQf84M8o9yU59Ci9kPSjelcWFiEN2e8IeSQL/khhv9++DHWrl6NX5etQq8LL8DmzRtx3aib8MabL6v8wnxSVBxGuLhQCKIYxeEIInKMiuH9PNFO+w8YjOeefVr5r15ljnHJc1HJNzyKXSwqGo3kuXiM+ZDulCP+U+7dglqreUQlgVgKRJhIkrjmPMxElyNLlLCopTRxIZqY2Ks0LCcBEx4ffJEYPZWrJHlY1FkkRGhX/r4O110/Chs3rZb8AfzfDbdi/qefSv7wYNGizyV/FGDD+kLk560S4Y5j85bNOOmU03H8MX/AKSd1wWmnn4muZ52OZ8c8hUg0jCLE8PvqjSjK2wSfz5d8k0ZE8k2sOIbVq9bhtTdmYOiQwXhx3DgVjiS/COTEZRmr1pIHE6W4uEiOuv7q9fqENIqUicclMYUwfv11GVasWCGkz0RMplw5CUgV1Of1J68s6jQkfT2SbYsL4ygsiGHK5JcxYcJEbNq4SbSRAqz6fTVyckPwB/xKw/D7A+qZuGgNy1csx6hRI/HSpEkYP/5FPPfC8+jdp5/45xFNIoLC/G0IyHNlwRqMx+/FzFkzcf/992PGm7Mk7/0kfrLAKifDuQS1ljyKCsMYMmQQvl/yrVyJuihkcfsdo/H5gs+waZOopNddh/vu+xtuvOEGjB49OlXN0Y+XAsknKqVHICAZyaLOQqevpKVUQRIJnwi1HwsWfK4MNdERI0agf78+Yk9tlZproRQ6Qg2ieXq9AQSDQbTZbz+0adMGrVvvi5Yt90W9Rg3h9XiVINSvl4tA0JcqiJLw+ng3gUGDB+FfUlVqvV9b5OZmC0GRdoxb97WR1FryyM7OwYW9LsRTTz2hhP/jj+dh/YY1OP74Y0X7COPqq6/BmLFjpASZgKU//iiq6iL1XHkNXT5J/Jyc7GQmsKjLSCSiksbURmNo3rwxHn3sQTz22CNCCPvhtttH49777kEkFkFMyIMFBt1JvVXli4BoIU/885+49ZZbcMsto3HbHbfj2yU/4q67/4Jbb74ZPy39AVHRQAi6N3nJ4xXNNyjaa8CHUCgEL7UZD9s4xG+P1TxqHWKxMLp1Pw8rV6/DJ0IcUya+iCsvu0yqHwHss08rdOzYEd6EF8FAEIcffgg2b10vGUsSU9RTQpVSyRLEGxc1V6o6zEeIS4nl3vSu80gky3qfL4z169aK5jlaNI4bsPTn77Bv6/3Q4eBDkZ2VJdWVkCR8BMFQAxFx9rjE4Zdn92u7H/5wdGcc07kzOh3ZCU1E82jf/iB06nwssus1kOoJ845u/FT5hy8TLYfPe4QwPHF5v2gq8FMLkqMQE++5r7m0lpGHU2sI+D0IZeVg5HX/J1rG1ZLI9SXRjxHBFxWTKSxQBBFL4Lsli0UdbaU+plzlUZ7xiDrq9QlxiCuv65I5M6C1AVZXfGjRogmuuPxyNGvWCo0bNEa/ARfioIMOQlC0glCovjj2ITs3hKxQrmgOzCtxBCX1+/bviwsv7IleF1yA3qLZtth7L7HrhX79+2Nfqc5kZZEoyuQPyT86Z8UUASmhMf+EPBJiTyopP/NlLlQU1EYwg/gks9TLDqGwqAAtJWF9XhH7ZOMoG8CoQsyePUvqrq1w4IEHy7V8TjkJKF7B5/dJ6UA1k+mtktqijoK9IY0bN1ZtXddccw3OO78b+vTtjYLCQsk3Mdx91/34bdlvGDH8Shx37DGiGEjhIQWOR55jexnTPhyNYMPGDVix/FfVfUutIi7VnZycLDkn2eh3EaqQkh+rz7RnY6yXeVEuYpIP2Q3M6pHSVFyEWksekkUQC4fx4gvP4oEHH8TcDz/G8pUrS4SeJcnSpUswecpEjBo5SjhBElR+bMLaDmIVzPKLKstMxCY3dyVyJoHEQcHlkcI6efJk3Dr6Ztz8f7fiphtvwnX/OwKjb70dw64diSEDL8E3X38r1VsReHkmt3493HbHXejdpw969e6NQYMH46orrsLvK1epXOP3SilDohDjUIIFHkUcsaRhwRXKCqkhA3RPaOIoJ+9lMGoteXBAzocfzEVAMkmP88/HSaeegufHjVMZh+rrqlWrcNddd2DEyOFo225/STaqm+UTB5M1luAYDzkX8lAZw13pnJFgPrjxxhsxa9YszJr5Dma/9TbemTMTH330EWbNeAvt2h6ESDgiCmlMqi8+vPDi8xgz9mncfc/dePzJJzFx4kt49eXX0bbNAZId/JLnWPhsLxJ62HtUDQtY8v0S5OfnicayHD/++CO2bt2q3Kh8qc7cg1pLHtvyt2H8hImilg5XidK/X38s+uYHLPhiIX5d9gv69u2DNm3aihq6FTNmzMKn8z8TgihfdeTzJCPdQs77tVjhchGYVlowI9i4cSO+/vprdU3Dkn5HoPZBEwplIyTV2+ycbGRn1xOtIAtBOWdXqo/VFam3egMhHNj+ABx+eGccdtgRaLtfazRp1Az1GzaAJxCUoscj/iTg9deTd1PTSOYjyTzyCmzbkofBA4dgwIA+KCzIw9SpM3BW126Y9e+ZSMTEfWz7fJfpqLVSxFF/Qy65BO1Eq6DgN2zQALfdfqdSG9mnP3ToUOy//wFYufJ3rFmzFuvWrVOZzrRm6MY1XRYouhCVVPX5KxtLHrUBZvxNUVERXnzxxRLCKK8AKA9MX6OJasNzIQtJa7/fjwMPOgDNmu2l7cXOI+nv9eomTy+fVW1k8pwaCwLsvXdz1K/fOOm79p9geNjG8uabM/Dxxx9h3rxPxHyOzz9fgHPP7U6XOpO5DLVyMSAGiZmKR5MxeG6MyTA8NzAJzXs0BiSTDRu2onfvczB10kTstde+iKsMpJLcYjfCmV6EIY833nhDDeA655xzlL1Jc2c67gz4lkg0jnBRPrICop2IZpEoL83FIfNHwkNtx4eivG0IBuKipeQqjcaEg+GkceY9Q3QE7WlnnnELam0RzIRg6WHIwKiotDOJ5LQ37spLPOPWmeAWewYUNEMaPC5YsEC1G3Tt2jXpIpVe6YI5wC+P5+TkChFkSS5npYSUUpq8NGjH6Q9Avdx6QmI5Kj85wfDQlM1rxpg86TbUSvIwmccYk3jmmih7z5iKwN6Zyu5b7How/o32waRYu3aNqP/zRPU/t0QwaWoindirpvxRfkneEJKo2NcksbAaQw1FnikbBmfeI4ybsu7chFpJHk6UlzjOhKtK4sUTUYQjRUjEdY+Lxe4FiZukoYmDKj9QWJiHl14aj549z1ftCcTOpOmOoNs/nH5V5Ke4QVAEQe6LNFT1/VV1l8mo9eRBmIRyGicqu6eRUHNb3Kha1gYYbUO3G8TBqQevvfYqupzUBa1bty7RIGsW2j/+L3tWArlUeYY/lXdol3Strrc/LwtzrzI3mYo6QR7Vhcm0dnDYnkEi4Uk2gLM3LIoPP/qPEtLOnY8uETpnlcCibsAVKcYu3OLisDpXrevJktBid4LtHXH8/vtKLPnhW/TocZ7qLmVa6Gnz7iq1MwGuIA/WfxGLy8f61DJypBBtLHYHNFknUFCYj+nTp+FPf/qTWnKBtlbjqLtwQcp5EIsm4Akn4PNkI8GBQlKBseXc7gPJIxaL4rXXXkOnTp1xQLvDJP4DonlwcSZmQZsadRGuoH2WcBzFaLFnwBrJ3LlzVYP18ccfL9oGu2N3RSOpxe6EK8hDlA1kZWU5aiq2yrKrQW2DDdU0P//8C7788gtccMEFailIzRm27amuwzUVTjaa2pJu98CQBs2WLVswadIk9OvXTxE4tQ8z4Mq2d9RtuCb14hyoZLljl4FaRGmjh6BzvY3zz++BffZpKXZ0x0TQCWHJvG7DFeTBTBqNOqfr20xb0zCkweqIULVoHTG8885baN26FQ47rIPYeeTHBUKZ5VITHi2B1F24gjw4jZ/FnhqCbLHLwKqh2R+Wa3NwsRx2y7J6wrYOHkkWKRK3qMtwBXkws5bedsFm3l0BkgbJYfXq1Wqa/ZAhQ9SMUzXORmC1jcyCK8iDi76EgqHklcWugCJo0Sy4WfRzzz2HQYMGoX79+qqBlFUYJ3FYAskMuKPaEoujoLBAij6u50GtQzKuVT7Shql2UNNgVSUW5VG3c7zyynSccsppaNu2nbggQXAdDLvVZybCFeTBUo5LGcbinJxFArGlXk2AJMINyYuKwnIOzJnzjhCFF8cdd5zc9UiVJaCIw2oZmQl3VFu8kpEDXIbOqss1CR2XjFsPFn/3NebP/wy9e1+kyTqpnVhkLtxRbeFK2CovOzK05ZC0YciB/MB2jjVrV+L111/GlVddiVCIWz3q5SMtMhuuSGHusM9BYqyfW1Qfmjj0QDB2zU6cOAE9e/ZA82bNFGmYLlmLzIZLNI84srOy4Wf9myqHaTe1qDqoZrC9SI7xWFy1IdG89NKLanuMQw/pKKTBeSuWONwCV5AH97flCt3kC36wzdppQiKQmyExPom5c9/H5i2bcf75F4hWRxsSh85SlkAyH+6otkhp6Q341EAx3fxh1Y6dBWNMKx9cSjCGxYsXYc577+Cyyy5DwB9QI0iVOzqycAVcQR5RyfBSFCoSUVtSSqFos/jOgo2k+iwvbyteeHEcrrjiUjUQzOy4ZuEuuIM8RKdWPQT82VyePiTuwpEI7n/gfpx11hlo0WIvZc02EAv3wRXk4ZESM54Iq7q6z8NGPc7qtLpHVcBRpJxaHw4XCQkX4pVXpuLg9ofi5JPORDBQHz5vEH5/CNwD1sJdcAV5bN6yTdXFs7Oz5cpqHjsDM6aDmP/ZZ1iyZAn69esvpMHp9ayu6N4Vp7FwB1xBHvVycxHKynI05lmtY0fQ4zi0oeaxcuVKtYDxyJGjRNPwqSqMMhauhSvIo7CwsKR7UcpGdbSoHCQMDgAzx0cffRQXX3wxGjVqJFUUs5SgjUs3wxXkwWX/WWXh9HDbTbs9nFqGMYwrU2UZN24cunXrhg6HHaa0DdpzwyZLxO6GK8jDH/AhXMxeF/mnyEPX1y0qBqfYC29g9uy3lJZx0kldhDQCejAYB4JR67Cah6vhCvIwPQYpncNm+vLAuT+MKxqS7A8/fI/vvvsWQ4cOVdPrqXFQI7GwIFxBHlSxg6GgVbMrAasnJAdDIFu2rseYsU9i0KCLkZOTo9blIHFY8rAwcAV5BEMhJRy6ymJRERhHrKIUFxfhscceEeLoj+bNm6qG0bJdshYWriCPcHExskJZai1T8gd5xNKIE7onivHCpQQnTZqIQw7pgE6djhZbMyzdxphFabiCPPwc0BRlXZ5XttTcHsleFomfDz6Yi215m9HzgovEmssI2oWjLcqHK8iDfJGXl6eLVoty4FXk8dvyX/Gf/7yPSy65FIFAULVv6OqehcX2cAV5cOJWgwYN4E9OG7cgj2ptQ/dE6fVOXnjhOQwcdDHq16ufdJVyZ2FRFq4gDzYCluR/0UJUo5+tviji4OjRcHEEzzzzDLqd0xVt27aVSoxe1IfxZJcUtKgIriAPTsbneCYfiUM1/BnjPnBNk7h8O3/8YyPyzJkz0Lx5c3Q6srPEj1c3LCdhCcSiIriCPDivxcxtsWBVhP9Jowl8tXAhVq1aiT59+sDvDwpJcGp9qkvWkoZFRXCH5pEsPW3dnZoHV5GPqsFgvy1bhtdffx0DBw5EMBhUccRGUh4tLHYEV+QStY+ICAUX73V7W4ch0Lxt21Q7x4D+/dGgQX1lT9IwxmocFjuCK8gjEokiEg6LQCQtXAw2hJI/JkyYgJNPPhkHtW+fvKM1NAuLqiLjyYPi4JeS1C+ahxINvXy6K0BtQnfF6jU51ExZqbLMnPEacnODOP2M0+DxAT7RzKidWVjsDFyheVANp3AozhAGcVP5SmWCJELDTakXff0Vfv75J/Tt10/PrE9WUWxVxWJnkfHkQcKIieBkZWcr4eB1pi/lYchCG00gwg3YsHEt3nl7Ngb0v1hNsU/EGRGWMCzSgys0Dz22QROJkiQXgMShwYltCYQjRRg3bgzO6nom9tprLwT8QbkndRZhUrc3IlukB1eQRyzBSXHc+ClpITCilYkwWofaGlIdY5j+8jQcckh7dOx4hPAn1+RgtyyT3xKHRXpwBXl4vUIVWVKvF5nhaaYPFzNtFzyywfSz+fMQjUTQ/ZwLhCoCEh96fVJtlFMLi52GO6otIkAFRYWIxaOpcjaDhYbfqzWOKH5b/hO++mohevfuC78vW9QSah2aOBR4sARikQZcQR5q/VIRJtZV1NEFIIFwT9kpUyaia9ezkZPDmbJeta+shUVNwDWaB7deoLruBuqgVkHCHPvMWJx66p/Qdr/91UI/Xh+/nsufW1hUH64gD2obHCSVEAnK1HKX35gyccyY8Qb23mtvHN35WCFP/dXcr9eSRwrOONNaacrOiZQ7XR1MGcZpqmFaGad7VX1MXqtf6p56jud81vG8gbkubZcyGql7ewKuIQ+uAM6BUIxuFfl7Nt5rHvI9sUgMkeJifPnFfKxauRwX9e6lZspye8hAwI+AP0viwC6I5EQ8JkIsJpY0Iu8qv5h2I+OGUxyisbAci+Ra3MRich1FOBJHOBpDLBpW7sJhcRelX3G5FiNponr7SDwc3Sz+kzRiCUkr8Y8N2XTHiYpOmHfzaIy5lv/qPHXcM3BJtSWGYhEqgu2EmdnDIBnJk8D6DRswe/bbGDRoEAJBjuVwgh+eqbpXmlBRIsKZHAnkkXMSRymoDKMFWDU0ixuyAIcc8nLL5k1CANzPdzk2bVgrRFKo/OFgRI+X/hlSIoGQhKgFA+vXbcSmjRt5Q/ltCMIJ2unw8B4JxpzTMFx7Dq4gj+LisGJ2lQjbp0+dhMls/CZVSsqvoHAbnn/+WQwYMACNGjURR44V1CxK4qokzlQc6vN169Zg/XoRfMknJT1RSTB2w6J5vPf2uyguLERU3M+dOxe//PQjNsgzF/XqidW/r8Jf/nIPJox/HgGfBzEhjJWr12LJkm+xavlyrFy+Ast/+xVbtm5QpCOvxejRd+Dxx/+phhJwKYTt3ivv4fKQG4VgCgtF40lExUR4Rzuw5LHrEQ6H1dwWTgAr1UVZx2GEgN9XVFSEyZMn4eijO2PfffeVz+MGTRzTYeesOMGGZD1JUKoTYrZu3YwpUybhmWfGIj9/m8Snc9c8DfIvF9C+bsRI0RbWq+fuuutO/Of995gIWLliuap+bNtWhKKCsDzgE2GP4uLBV+D8Hj0wWLTAAf0HYuCA/njxhXGSHiR/iPs8RKS6U15e5Obs//znP9XM5+OPPx7nnnsuPvzwP3InJuFJhW1PwhXkEQqFUJRfKJlGMobKCoI6WCIbbYOGpQ8zodlT9p133pE8yD1lT1bXvMluWUMc+hn3wBlXxhAkBZ6TRP7973/joYcexN57743rrhuFNm1aq/iiG5KuATUFrvMaF1K44847MGLECHy3eAmW/foLFi1cLPfYDhLXZE338iquHFNUWIxhwy7HW7NnY867b0savYurrxkuLrwq3ZgyPrXkYyp8BM++/XYx3pVnHn30Ebz2+uvYt007XHPNNdi8eYvc5ZQDOkw9syfgDs1DSMMjCe/z+sCOB5XA+ladBUsfFo7xmAeLJaPN+/Rj9B8wSLSrkJCGr+QDKQzGuA2lBFLOjfn4449xzz33qOrA9dffJKX7qVLA5EgccUtNva2mEx55hsQMXwjtDtwfnY7oiBbN9sa0aVPw51v/IiTBXizJV4EA/D4poDysXsRRnLcFoYA8Rj9F6w0EsyQP5kgYpDopGk7els2IS3XIzNR0ptGRRx0lGtFknPjH43DAgQdg2KjrsWXdFqz7fb2410tF7umeM1eQx7Zt28rNFHURpu0mFvHK0YP8gq341xvTMXzENcjOzkJAMrApNZ3C4zZQszCG8cWq3ddff437778fS5YsUdpDv3790KhRI12lTbY50JRtf2C7iIp3Ofbr2xeDBg1E/QYNMWLUSDz73Fjk1quntAUujpIQTUL16snjoewQxo59AWed1Q1nnnkGunU7E/Pnf4qePXviggt6inbxban3GNCGa9BkZQmhSb4NiEYTLihAMJ6AVwoLajbqqe0f3a1wBXl4JCG4khgzUibIE7+B3Yr5eVvx5FOP4pxzzkbTJtxTNrWMIFFexnQLSBjG/PDDD3jggQdUNeWyyy5Tu/43bdpUkYQzzmgMgZSCSCvJo7CoANffeIOQTl988923aNy4MXJzcxCJSb4SZ1QiuFIbu2blBPn5efjjH/+IkSNH4eqrr8ZVV12Jdu3aqvcPHjwYDRs2TPqvD05wf2Cv1y9G77P83/ffQ2Mhuhb77JN0sefhDvIQwxGmfmHxug5NDFJpSYQxeep4HNqhPY7sdJR8Y6Ak0xsB2E4IXATG04oVK/DII4/glVdeQa9evaSKcr1ajsAJZ1w548wcCZ63aNEcU6dOxvDhV+OGG/8Xr776Ck46uYvSLg6Qqow/INpLIKg0BRJJPBFDcbQQJ5x4rJB7V6VtdD/nfDRv3gLdu3fHeeedh6bNmorf+h3bQbTKhKgvbBpd/PW3eP6Zp3HTn29Fvcb1lVajysA9XBC6gjw4ICfIhPWIgDHm6yhYArEk5fH99+dg86YtOLf7+UKKHAjGMR1199vSAeOBGgE1SnOkWbduHcaMGYN//OMfUmU4CzfffDMOOeQQpWmwisKqndE6qgah5mAAnTt3QvOmLfDbshVYvmI53nv/I7zzzr8xYMDFmPPeXJxwXCecceYpks9iavZ2TKoYq9dsEfM7li75Ad98sxhfffUlNm9cJ9wgxJCc5s2xHwS/xxjmWfb8rF+zFqNGjcCJQlQ9evcWe3IG3YhWtYfzsivIg6MrIQkhiqn67WnG3mkwvCrMUhpJifTj0p+FPOZKprpeSDFHBCK0E4KQOSCROsljy5YtePHFF3HjjTfigAMOUO0bhx12mHJL7aG8akplKNFCmGukGsHnFy36Dp9//gUWfPmlHBfiy4Xz8bVoBp8v+BK3i2Yw++2Z8HpEX4jFkR3Kxr33PYouXU4SLeUknH7G6RgxYhiWLl2CsISXBOL163Y4p6bDMoCr35EEL+7XD00aN8LfHrxf3DKdxX0JySTd7yF4JBB1TZR2Cvy4SVNfxrQXxuK119+EJ8Bd33WdtFSC1WKwCs0vYVJt2LAZjz32GAYPGajqzxSAuvId1UF52ZR2HLPBMRFvvfUWPvzwQ5x44olSTThHdc8ThjR4TDeeSEwkKvM8jyY8xq6goBCn/elMDB3aE1defpU8k40teXlIxLhqf/I5MVlZQVWY5UeAs7uejbNPOwG33X6bVEX0vjkGv61YiUsGDcHiRV/hzjvvwF5SbYqKpsHtQDt37qzeT/f8tj0FVxRXnG+Qk52juseYCdgAll422lPQ6nk4HMG4555B93PPQevW+ybvZS4oIMYw3YxhXOj4CGPBggW44YYbsGnTJtxxxx3oLao95zFRYFlFcQp6uqAfhqSdR6fgKs1E3heJSvhULSSBhg1y0KRpEzRu0jhpmiAYyhIPxQ8pwALyOKtDWqtMgd84f/7nim2OEqJ4/fXX8ORTT2PcuHGYNWtWCXEwHHsSrtA8pr86A6+OfxYvTZsKj9pSkYsCSVVmD0d+1cDJVoXyP4FJL72k6usXXXSRCEaWZCJm2sozUdnErUukyaxJowhfQMLgt9Lu+++/V8LEAV7suWjWrFlJWwZhniVM/FRX2Ix/BiYsDB/nTg257Ar0vag7zjv7PEmXLMlrMdEozJgM/awiQPmOouKwkN716HL8Mejbb4Dc1e0xBF1GOfiPA8/knMFOSFVIF3mlSZHpv6fgCvKYPO1feGvKeDwzdTx83mzVSMXNnEWR1Y5qIZgsJmmi0SL89+P/4t1352D06D8jFGT3nVbDKyMPPq19oF/qRE71yEZeqsfkxOyIX1vgzJI8p8CxXYNh/Omnn/Dyyy8rYb388svRqlWrEnIpb4zLrv4uZ1g5aVYoTsWpl+vEqslxzGUi6CrGBeJezbiVMHtV2HiUMCfTwITXTNdXl3Ku7NWt0qSxq7+vMrii2sLSKMCGJp9OyNr+2SZDGsFZu26tGn4+auR1CAaocehMtiOtQyHpB1vnec69Wzj+gCSiN/9OZf7aBB1mHTZ+I6slf/nLX/Dkk0+qbk5WUdQcHrnH9DWlsQHPdxg3NQDzHmUkLiVV5JxkwHtsnqc9c5y6o6Kb1zT8Pi5GrTWK0n4xrUzacJySMkmCMemu3O1BuII8mHwxKbk0aqewGBiBofBQTS8oKFDq+SVDLkH9+vVLMk9ViYOG6i/NJx9/jA8++EANmpo9c5bqEUg6TB73HAxR8shGUJ5zst/mzZvx+OOPK7Lo2rUr/v73v6Njx46KLEgaJi5o9jSqki68pwoz0ZJMNct8hxO8NvZ8pqypDXAFefj8PtWIJtlTU34thxEgGm5GfcIJJ6Btu7bJTLMTgk6nYqgefyik8d6c9/A//3M8Dju0A16b9jKK8gq0u1qSGUkYrJ4QnMU6e/Zs3H777UrDePjhh3HcccdtJ1Q8OgWsNqCysJh7FRmDiuxrE1xBHqFgUNQ+SYQ9X8DuEFQWCGaYN998UwlKlxO7JO3YaGi0hSpCPFy/bh0e/cc/1NRwtpcwK3JCFkt2kovRdvY0GA72oFA74nDy/Px8pXFwOjpLadNgalE7kPnkIXIRzSvCxuhG+BJZYhEREmH9v3ZlQlPqqqXrxPzww7dYKuaKyy8RwcmC38dJb3ri245KIwqh6s6U74zKOdcz7XTkYWjRqjn1YWzYtAlbirYgq54mVaEl/eAuhgkXvzMajSNczLU12O2aQFSOCxcuxN13343ly5fjpptuQv/+/dGkSRNVReG4jaAUAtQyLGoHMj4lKBbMb1nZIijJ690jKjsPChc5YcvmLZgwfjwuvewyERy95qghjB0RhxMkpPyCAtFg3lCNjBERWlaFvvrqKzRr3hQ5uTmKXMXH5BO7Hqmwy7eq3JdQG2//8/HH8emnn+K6665TK6E1aNBgu282xqJ2wBU0Hgyx5OLix3HKijK1ASQLY8w1hXvM2CfRt28/NG/WXMTaLze0wDjdmfOKwPvsAlyxYjnWrl2L1WtWY94nn+CTT+bhmWeexdF/+IN2t5upNPUNcaxfv06t4DVnzrvo3ftC1fVKTYPahflGSxa1F64gj0ikWIo8Di/WQ4xrS3akcKjqhRhqCTSTp7yEI444HB07Hq40AtWVJ/LGe3TP445QIqDy++yz+TjjjDPQ9eyz1ZJ2Rx11lGpLOOXkU5Sb3SGbDLPzGzkHZdKklzB27NMSpi4YOnQIWrZsoapkrKKUbQS1BFI74Qry8PnZPcbReyzN+L/2ZEYjGBQqzs2YMnkK3nv/PXz3/fcSzmTyiBNTEhuzIyjhk9+3i77GH6hlyCNsa/3mm2+wb+t90abNfiouagqlwuY4V0aPnlKkxTkonCbfbv+2uOmmG3FQ+wMlrIwDrWUY4jDGovYi41OHGn9ECU6WiFJEjBmUU4OSUw2YEnnZsmX4/PPPMWHiS1ISX4HGjfdSIxbnfvgfVfUw7pwlcYmwlkFJSS3PIFyMg9sfJPHApPbj7bfexaBBg5HgIjMetqfQP+W6WigJBw9Jo8aXyEewB+WLL77AhAkTlGbBdTVO+OOJQuhB+LycLuCXb7MaRl2DSzQPv1o2jpzBPJ7M5rUCFDoOhBo/frzaa4XL4h188CHYZ599VMnbokULTJ48Gb///rtyTwIhkaieGTmvDBTGpo2boH52PSESYPGibzgfAZ06dVJdwCpCahDOqgkjmmH8etEitcjwzz//rHpPWIXiYDe+m0RioMNjUZfgjrktU6Zh3idv4dG/PyJfnIu4xwdqynuqnDNRTiGjKk81nqMnOdWaMIJEdyQAHun2t99+U6tjHX300arr0qj2ZUtsuqXg0vadmbPhD4bQVqoJs9/6N/py3c7GjUveYaoG1S31+T5qGHrOEPDLL7/g9ddfR25uLs6/4AK02KeFcmfCTJhvM+cWdQuuII+JL03GvHlv4/FHH5WrPU8eqmROHqlV1KtXD926dVMlsSEMCphJGkUEYsdRly+99JKaQXrhhReqe3ymrODxOWoBUqlR4ydWrKDWEkfLls0U6XBFNb6bBGLeU13h5ftIHhvWr8fUKVNVmDn7t2WrVmqJPr7DvIfvre77LPY8XEEekyZPw2fz/o1H/v641POD8tV+qa/VTF2/qnBGsyGPefM+wQcfcEWw6xBQyyQyTBTm1MIzhBE8Y6it5ORkyx2q/ilBVKtMCYy7mLyHE6o4kY7kkUhE1Dd7EVD3jRbA8x0JM92Yo3FPw3N+D8P06quvYtXKlTj77LNx2GGHI0AyVL+UhkOYZy3qNlzR5sG1EerlcLyEGE8cXgpn8t7uBktkltKsfsycNROXX8GBYFp74L4y6pjUCIzhNd3Q8JptBhs2bFAbAm3dugWRCFeG5zaEGvSD7ii8XMKf2x8GxI+gP0uOWSX+0Y1xXxUY4jBtLpwWz9mu06ZNU8PJ999/f4wcNQpHduqkFrnhEntsbzLvMsYSR2bAFeTBIdjM8Hty71YjMDxyTglnyg4ZfAnq12tQJkyVB9AIfNOmTVTD53//+191vathwm+0Jg5m++ijj9TmSQwTe1C4zQCHkBs3FpkNV1Rbnn3+efz47Qe4995nEPdH4Zdqi15JTLvZlTClNQWKAsgS+7nnnkP79u3Veptm/Ikulem+YpXe+EOTSMTUNd3ymtpEQK3Pmj6cWcGElyDxGtJiu8a8efPUHigdOnRQk9bYZkNwkJfxg8+aZywyE65IXVPvJltIllY2uxMkDAoVS+v33ntP7SHDafYEqyq6AZFXFNjKS20KpSaK1JJ7HD/B3dRrEiQMhplhJ5HwyB3XuI3Bl19+qdYNZder2XGNGochDBpDPBaZC1eQh48ZOc4BURRMlvTM2LuWQCh4xlCY2Ai6ZMlivP/+u+h5YQ+5jsLrk3CUyBhPmBwlFuWCQqkFk0ddDWvXbn8hpfdFyLXA06jP28EnOsOonnHY8RVsS2G4ly37FXfffZdaImDkyJG49tpr1cQ1whCGgQmfDqNFJsMdmoeUnNnB+iJuLNl3LKA1BSOILLm5B8f0l6dh5KgRyMoKaeJQ4XESAsNWcZKUFkwKLTUWr2gxJ+LwwzsKV5Acq9beYMLmPDfXDC/BiWsPPHA/nnrqSbXFIrWO1q31TvLUfJxaRipcFm6BK8iDwsDl/KQ8FQFJWu5iUO3ne2nYQDpx4kT0vOBC7L1XC/h9AQT8Ial26On21QGrLqwycA+XvLytUr2gtqDHeFTGkRR0koUznKxWsXrCEa9PPPE4/vrXv6p2mXvvvReHHnqoehfJgtUUPm+qTRbuhCvIQ5eOcrK7mENg2gyImTNn4sADD8IRR3SScFDgWGJzoFr60e8s7fmeVatWYcaMGeo7WX3RGkjF32vCRrIwBMKuVw5C40LD1DDY/dqlSxc1sMwQhzkajcPCvXAFeVA4VE9A8prY1TTC0pkC+v7776vGTA6corzSpKpONSN8FGT2eITDXHpAyKSEOHb8lXx2zZo1mDRpEl544QW1ETTJo3v3c5VGQ5AkSC4WFk64oqv2+XHj8MtXX+C2vz8sbBmCxxvXJWcNCS/BaKSAGU2AhMVZsp999hmuuuqqkoFSprSuqVLbJB8bNgsLtyGotlmUqoWPVYvUuBbjTmslimOwceMm/Otf/8KyZb+pLleu9WFIT7vR31LTYbbIDLhC8+DYBC5mwTaPXQmj/hOcYj99+nS1pB61HgqeIY+aFELjH4V80+bNii01KaaIg2EyYeOxoCBfaRmc7XrooYfg1ltvUcTBKokJpwnrrgizRWbAFeTBej2FQKvzRFKqaggUXBq+g8LJeR4cCMYuTbPXSk0Ln3knDUFi4DYNbBjmu5z3GSYakujHH3+iqiUNGzbEn//8ZzWT1xKDRTpwBXlQFafgUI3XpXLNwwgxhfTZZ5/F6aefjjZt2uzSktu8k+A5B2xxLkk8rqtQhjh4zuoTSWPVqpUYPXo0zj//fDVYjXFDY7QOC4uqwiUNpnHEE7u2wY+CRw2Hw7ZZqrOLk9hd3Znc2OqSSy5RPSOEIY7vvvtO9ZpwVOiwYcPQp08f1bjK8DJsxljisNhZuIM8El4UeQvhi/oQ93ApQhGUatZcKJzGsKQnQS1a9CW+WrQAF/XpKQKpo9a42RUwAk+SKCwoVAsL6/DE1MpdTzzxhBoO37dvX1xzzTVo2rSpuu/1svGWI211l7FqJbHkYbGTcAV5UHT9QT/UjnEiIyQPRSDVgBE2TQwJbNy4AVOnTsOVV1ypqgG8z2PKza4BiYPg/rPcPZ4jWbkZNMd89OjRA8OHD0e7du1U9UmHK1WN0t9gjqlvsrCoClxTbcnOylLEUVMgIVBwWVUpLMqXUv4xDBw4EHvt1QIBPyeJaSFllcC0e9QkzPtp2KbxySefqNXXuRE0B3axsZYDvUxjsTG7qxplkflwBXlEwlwsJzW+oaZIhITAId3Tp0/FSSd3wcEHHyx2bD/QmofT1DSMNsP3c6wG2zS4aRK3a+zUSY/X4HudxLWrwmLhTmQseVC4lICJUdUHr5xTbqpRgzB+0rC0p+GCOGxr4BT7QHKtTj2CtHoo+y4OAtPn+praFBcCuvPOO9Xapg899JBaRJkbWRsYouBzFhY1jYzWPIywbV6fh1ADHxKemPpgvVt+egLFkp7dvqwusFHy7bffxqVDr5CqSpaU8oHkbNOaLeFjMb6zWE2w47vnzfsMt956K5YsWaJW8Lr44ouRm1tP7YHilyoT97clYbKKYtb9sBqHRU3DFdUWagQUPqW2J+2qW3WhtvHUU09h1KhRIpx6bMWuKuEp9ww7t17429/+hvfmvIdrr71GtbE0b97c8V5+lCUJi90DV5AH6/1mklcJqijnFEytwehxIhRiah9PP/206gJl9ydLd3MvXZh3GGOuqeFwsWRWSzhq9cILe6ltGltxS4Nkb45pDLWw2J3I2ByntAwxFEIKOzcfSt5JHqsO06NBf+gfu0EPPPBANbSbpGSqB9UlD1ZJ2DtijpztysV4OMjrtNNOU+0bHTocqgaEmeqIIQ5LHha7Gxmd4yiQVDFi8TDiMVZZ+LlSoqv/lYPP6uc1jBawYMECLF26FN27dy8R2qqQhvHP6W9ZO77D4yGJcPGgFzFixHC1CM9DDz2Mo47qXEIQ5n3O91eHuCws0kFGkwcFimIa5S+qhYs2CbXIcMXCZoTZnBMkDrWU4PTpuOKKK7arquysADv9p6H/1DimTp2Ca4ddhVAogDFjnhSSOkcIgkPIdQMoR67WdIOshUU6cIWuW1hYqCaMiZQmbSqHEWhqAjQEZ8py1upll12m2jnY3sBS35BAVUGSYJXEGPrP49y53DluFNauXYMHH3wIffv2Q8OGjYUkuEFTakq/hUVtgStyo2ofSM7hiFdB2J3ahCGR1157TU12434rWgPY+ZGjTkLiOYlk/vz5uP3221V1iGuFDh8+Uk2sg4ejQXW7RjrvsrDY1XAFeVDk2MjIk6rIn1OboMBypiwbS08++eQSOyPIzvMdge7oN82iRYtw0003KVKiNsPxGux2FVfw+4LyP9mWwV/yHVV9j4XF7oAryCMSLoDXE0TCI9WEhNZAhCLUvYpArYCDs5Z89zUWfjEfQ4YMkuoDNYCqCbDRMGhYLaF/PGcPCoeQc3/XSy+9FPfdd1/JxDVt+A49gc3CojYj43MoRT3oF2EkabChVK1eLrY74AAK8ro1q/H8c+NEMxiqGjBZ8Fe19DfVEmO4MTWnyD/88MPo1q0b7rrrLjUXxlRLypqS91TtdRYWux2uKN64gfxeTVuIHMpPFA7dB7M9TJWCYDXl2XHPoU/ffth7n5Ziw6e0IYzbigy1DIIrp7/yyitqrMZ+++2nRogec8wxipxIEhYWdRWuIA9fcmNrT4LtBuWTh6le8EhN4dVXX0XHjkegU+fOmjSosUiVwrmIspMo+IzzeZ5/8MEHqorCazaKcoVyrvRliMOSh0VdhivIIx5NYPOGzSLoWvNQKMMfJAEKOcdafPHFF2pMxxlnniVk42iDEOYpW2sx5MEjwclrCxcuxD333KOGld9yyy1qQ2jnQshm0pptALWoy3AFeSQQhT9IQY3LjzvWkghSmgMN7/p8HqxevQqzZs7AoIEXIzsrJAKu20iorXhJEA6iSD1PjSOMH3/6Ho8+9jDenTNbLcbDuS/NmjUrIY3yjIVFXYUryCMUDCArO7kwMOWVQivynxJ+uRArDiabOGEChl46FA0bNhAn+p56RP00qGnQGKxeswb3/e0+1e3au1dvNdhr7733VtpFif8WFhkGV5AH2x8KCwqSVylQqFNtFDFFHKeeeipatWyptALdbaqjiG6c7Rk03BCa2yyMeXoMepx3AW64/ia0a3eAGqdB4jBtG8YPC4tMgitytdfnVXuUKI3DARKEaa94a/ZsNGjQAH9gTwjbI0TgvUn3dGPc0lBD4cxajtE46KCDMHr0n9Gx45HJthG2ZehoJWnQ2CqKRSbCFeRBcogm92hV9RUHeI8rcn2/5Huc16OHrpqwmiGG97QG4lWkwV3k2YPC7lbac/MkLjbMSWtO8HELi0yHK8jDI5pEKJuE4EM8Vij1mBhiUdEixORvy8fUKdMwcMAg1K/fEMFQNptGEY7EEBF37H3hmA/OPeHSfytXrlTDytntyjko7Dkxa3o4qyoWFpkOV5AH2zOisYiqTlC4o7GoaAdhFBXn4cmnHkOvXj3QbC/OYNU1GxpdVdH7oXAVr08//RQ333yz2ria1Rv6Q83EwFRNnMbCIpPhDs1DBDkaIWFoYdeCH8ekSRNx+OEdcGiHQ8SW7RlsFI2pexs2rFOjQqdOnYrevXurHdfKdrvSH3NuYeE2uII8CFYlSB7G/Of9D1BUFEbXrt3g5ViOhAecCLdx43o89PAD+Nv99+Lsbl1x22234YADDiipjvDoJA1LHBZuRcaSh7NKkeDQMK7noYaXevHjj0sxd+5HGDRwKHxejv8IID+/GNOmT8df7/2rWvrvwQcexOGHHVZCEJY0LCxKI+M1Dwp5HBFEYwG1/OCWzQUY++xYDL1sKHLq5aA4Uox357yD0X8eDQ98uP22u3HmGd3g92fJs3q1MOOPJQ0LixRcUW0JZYcQygqpXpPx4yfggh490LLlPpg3b57a25WDvThxrWfPC1GvXr1SvSeWMCwsyodH1PuUfl8BquAkLZT1tzwhpRvam6PTzgnjl9MNwRGho/53JI486hA0zG2Ctau34KhOHfDMc8+jbdt2uPrqq9GkSRPVu2L2dqnsPdVBTfplYbGnUWXyMM4qEtqKUJl73nP6y3OnXVVQmR80JI9rRw3Dz78sRm6oAfZp2ga5uX4Mv+5/0aLFPiXaBWE2UTJw+kUYdzsL40+6z1tY1EZUiTwogNyrhFPNuR4FR1rSGIHgcG0OpmL7AOd80M6U5BRInrN05z2+jquP80h7+kf7rKyskqoCDZf7iyc3d+bixdzY2bQ/8Dn6y3fy3fSDi+4QwWAAeXnb1BT4aDSB4qIIxjz7tFRR3kOb1u0w7Orr0eHQA5GVmwsfVyWXZ/zc1sDvU0PYGXZ+L9/LdzBsfF9OTo7aUJph4HexCsRzutm2bZtaZJn2jBceuf9KfkEBGjdqJG6j6j73kzXxY4iK76Ex4D1jx3PCeV72SJhnCBNHBuX5zUfZHZ20Vca4c7ova8dlGLmtJv3R72E49TsZRzzynjNs+n2lw6qh38/7/MlTcqXDnnqG/us8UPq7Uu/T79ZxSkO3zD88Mqw8Z3pqO64kJ76KvfHPvN9bsuwjr7S9OhEof3khfx6zDGWCx+S5A+b7+Lw5rwjqHQLlLvmusl6W9acq/hJOdxX5waOBuS7rd9lrJ6pMHhySPWfOHJXpmXAUXD7KRHGC92gIvti8nMJnCIagPxRA4wfXwTBuo1EKpge59XLVlgckD05SoxCa95lgM2wmI+lzceP3yLsiiISBgC8bWzdtRCS+GQ0aNZEHhSC84k5Si+HJycpGPBrTYZHXG8JgWPguEhPfZQztzPtMGMyRBEE/9YI/EheSWUlucQlXMBgSkslXbg058UiycX4D32v8Ntc09JtuSLK8ZjjNN/PI+OV9JykxrPwWY/S3RRAI+lFUWFQS/xw8R8OwONPI3Cd4bNykoWQYv7iLon6DbNSrnyOCqDMdCbORECXDw3cxDvg+pp8JE8PDsKsw+/T3M8zci4b3wsV6DhFB++zsEIqKC0q+hXEQi8lzUigQ3AVQ3ZP0JlmzwGD4eSwoKFIkQTf0iyaUxV61ArHLUXlJhUXS3udP9aQRJq6YJ3lk3LJwYhjq16un4kWcyDdmlYoj3jfX+rsMiaWWceA7aO88j/F9UoCZMPA75UQRFe1MHuQ9hsf4xXsMK/3gPaafM+0YF4xj2pd9ns+Z9zFPMYzECSecgHPOOUf5ae5XhCqRB19E0CMa84g5dx5pTEBox8DTjkfjhh/DwNHwIxlI3jMfxOfFmYo03ue+JcxgRUXFJRFJmPfSb/rF5+l3IODRo0jjEpGS2YdfMwwnndIZvS7qi4J8yeghcRuPKU0iS4RaokgyWwF8Ab1ID/3TGTWmIttoGjw34TMRy/ebMBjob4mosPIdvEe3HOlq/GQ4TUYzoL8mcenexBHBI+/zyHs0hIk7c6Qbk6FMOHnku0x4Y2qErX6HjvOUUBt/zTWf55HxT20hHBaNjBt7J6IIR4rkY72KIDjqln7RXxqTrnw3nycYJt4jAgEhi7BoaSGtneZty5N4zlb36J5xXlhYIH5vU24CgaAiYb8/KHGaXxIXFOqQ3C8ozJc0zEdOdk5J2lHToxtuSk5CyS/Ik3gPq7DmS7rQX/WNQpzUOlVBxVX2JYjMP0qrlfxBrUOTjE80WdG6Jdw+b1A1tJt4Zjj4HTw3xsSlM43oXmumqXsB5itF4CY9JM6TmiH94TXBODXXhhgI8z6TpjTm3MCc0x1hrumX8Y/HY489Fv369VPhNH5VhCprHgbGs/I8Lc8r485ECkE783HmGePO2NOwqkLoa3Vayr2JSPOMgcoQUrIJb0tmiaHX+ReiT7/uGHDxYLkrJbdXIpsOxSs+Jb7TY16m1FKBeVdZON9FmGune56WDbMJL2HCzyNN2W8gnP6Ze+ZYNhMQZZ8njB9l/XJeV4TS7hg+ORcyVlBjZlgg6O8hnO93fmt538EqBE95K/VYipA1NBkSZtV6VkV4m5mboFv6pfNBSmCNv7zvtCsL826dFhSk8uNGh4tn+p5alc48LDBpaeA8J3it/SgnEPJNBpzNzRdRMzYwfplnnd9U9l55cLo3MHYmnXhN48yfZZ8piyo3mJZFeYEpD3RXhVdsB504yQuFlB/Gv3I/jreUNbUlajkkj17o3edsDBw8VGyyxFoiSgmCvINO5ZRH5Ws5XlYF5X+n0zOdODtKEKKyODPPl3e/Mr9Lu9fujGsJWfJMw7gt7R/tRJDN1hVqy04aLcQGVf3GilDZtxtUxY0OW1kwXOmFraJ3mu+lKUsgZVHhPQd5iCN1cKaJea6891d2rzqo7DsMUsVGJaBHZc3OoOwzTn+c9k44FIBkkpd+xjy33fMll1SR6U5OvQk0aNhIl1pSZ2bG0oshJx3zIMbp93b+OlDWnXFb+nr7551uDcqzKw9l3Zlrp6kq6LIy1+X7RztqBryv3ZTNPmWfK8+fyuyMfXlunDACawSm7HP6OmVMm46+rhxOP5ymPDjvmTAZmHtOUyF4z5gk5IlKn0v3nhNVdVcRqkQeVYEJSFnjRHl2hNN9iRv+JY1Kc5okSrkrc50yOrMwUYuKC1FP6ryqXklWMpnO8az80xYOlPYvZaoCOittUs+W51dZO+e1sasOSvlF7xzGea8yo7ILjzyVf1oonfdL+2VQVbuycLopawiq2ObcHA0MYaRIo3x/yprKUJ7bsnbG7BR08LY3ZVCZ/+Xdc9qVZwwqu1cZaow8ahucpRJ7a7Zt3qJa32mt71hYWFQHGUseBImDJBLy6zEYijhIqmTWqpGrhYVFBcho8jDgOA721auWbDZFWeKwyGBUpFmn7HlWff07A8nD9AJI9Kj48aAwHEY0ymuOYxDD7sXqx52FRa0BNeyoZHIOU4jFIwhHixEJc9BfkRyLxD4KDowrVuNDisVtRLk1XeHpIAPJQ7OCafNh1UX1sqh6ClvEecZzq35YZA5MG9+yZcvUwMQESUGyeEF+Pn779VdEOSBRfhz1vGjRIhQXFVaLOIiMrbYk41JxCUcGpuYuWFhkJqhJTJw4AU8/9bTqJKAQPPTAg5gyZYoikhUrVuKss87Cqaecih+WLlXuq4OMliijfXAOgjm3tRWLTMbgwUPw9ltvYeXyFVi+7Dd89eVCXHvtMDUit1WrVpg2bRq6dDlRDfU3Q9DThSuKY6pw7O9Xqp1UYRhd6UeZhUXtBOfWtGjRAgP6D8BDDz6IRx5+GEMvGYoGDRpKfuekOJ/aLoSdB9TGSR6mupMOXEEenHqfiEvVJRGEh8Or1aQjq4NYZBbU8HifF9169sIXC7/H9z98jbO7nwXRMZQ9lYyY/PP4uQSBzv9W8ygHOk7kHyPLKxElRg821HYWFpkGkgfbQIvyi9T0jpycXMTiUcnvYsn5M+qPI0gpAlWZH1Q5MpY8dLzoyAkEPcrEhYMV9EgxfW5hkQEgESgtQthj7ONPYNjwK9Gx41GYMGG83E124SrDLl295grJxlZbKoGiCNE6vKKq8UcLRlf6UWZhUXux+JtvsO73X9H9vDNxxZXDMWvG21i35nfVRUuYpRC45gmJw5JHJWDUBFRXrVbXOB1fGUsfFhkEPZ4pjqeffgoDBvaRPO/BPi1b4rQ/nYWnnhojJAFMmzoVI4ePwKJFi/HAAw/iscceq1Z3bZXW86hbYGQolpAI08sRXn7pQFx51VD8z/EnCokE5ZZeg6I6jUUWFrUJFGMum/jjjz/ioIMOVD0vlAGu0Lbst2Vo3769GkC2ceNGKTZF5OWPPS/c4MwsrLSzcAV5XDK4H4YNu0LIo4sQBteHtORhkVnQjaW6DYPGuYob7ZnXee4kCtrRGLc7i4xuMGWk8URFmlRdMowlLSxKgfncEALB/E9icC4taI60U/JRDWR0mwcjk4aNQwG/aBwWFhkKEgKrKtQszJH5niRhzs21IRO6M4SSDjKOPNiPLXwhSLYuez2IRCPKaHuieoxrYVEb4dQsnKRQ3rnTLl1kIHkkP4lah/xIE3HOpJVqi/5cRpqwSPXjzsKi1qA8UuB5VUy6yDjyKAtWW/QeIknSsLCwqBFkHnk4+UFYNS7kwQ1tlLJRDZa1sLAojQzVPHS3FMmC7RxeNiIFAlbvsLCoQWQceThqfBzEAr8ngaDHh4BPbxuoNnsiLJNYWFQLmUcehj2SK4f5aBGLI57cHJmsIbTiIBkLC4t0kHHkweqKgToXU5BfqAlDLQgktKFm1VpYWFQHGdrmkUJMDc3laDogHqPWwU+msQRiYVEdZDR5mH7sgw/pgEAgKOc+tSaKhYVF9ZFxE+PKfg6v1TL0PBfDobmKVKh5WOXDwiJtZOCs2u1hJgCZI8f6k0AsLCzShyvIo7xPtORhYVE9uII8LCwsah4Z39tiYWGxa2DJw8LCIi1Y8rCwsEgLljwsLCzSgiUPCwuLtGDJw8LCIi1Y8rCwsEgLljwsLCzSgiUPCwuLtGDJw8LCIi1Y8rCwsEgLljwsLCzSgiUPCwuLtGDJw8LCIi1Y8rCwsEgLljwsLCzSAPD/fWvZufqN19YAAAAASUVORK5CYII=)"
      ]
    },
    {
      "cell_type": "markdown",
      "metadata": {
        "id": "hKtjFgno5AYz"
      },
      "source": [
        "### **2) 두 벡터 사잇각**\n",
        "\n",
        "두 벡터의 사잇각에 따라서 상호 관계는 다음과 같이 유사하거나 관련이 없거나 아예 반대 관계가 될 수 있다.\n",
        "\n",
        "![image.png](data:image/png;base64,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)"
      ]
    },
    {
      "cell_type": "markdown",
      "metadata": {
        "id": "ppsuysqP5K_N"
      },
      "source": [
        "[두 벡터의 내적 구하기]\n",
        "\n",
        "![image.png](data:image/png;base64,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)"
      ]
    },
    {
      "cell_type": "markdown",
      "metadata": {
        "id": "VC_hyXGe5RCt"
      },
      "source": [
        "[similarity 구하기]\n",
        "\n",
        "![image.png](data:image/png;base64,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)"
      ]
    },
    {
      "cell_type": "markdown",
      "metadata": {
        "id": "xqtmpo-x5Z07"
      },
      "source": [
        "[코사인 유사도가 문서의 유사도 비교에 자주 사용되는 이유]\n",
        "\n",
        "1. 문서를 피처 벡터화 변환하면 차원이 매우 많은 희소 행렬이 되기 쉽다. 이러한 희소 행렬 기반에서 문서와 문서 벡터간의 크기에 기반한 유사도 지표는 정확도가 떨어지기 쉽다.\n",
        "\n",
        "2. 문서가 매우 긴 경우 단어의 빈도수도 더 많을 것이므로 빈도수에만 기반해서는 공정한 비교를 할 수 없다.\n",
        "\n"
      ]
    },
    {
      "cell_type": "markdown",
      "metadata": {
        "id": "g-E0VMNV5y3u"
      },
      "source": [
        "*  cos_similarity() 함수 작성"
      ]
    },
    {
      "cell_type": "code",
      "execution_count": 6,
      "metadata": {
        "id": "sPP53aGb4NhO"
      },
      "outputs": [],
      "source": [
        "import numpy as np\n",
        "\n",
        "def cos_similarity(v1, v2):\n",
        "  dot_product = np.dot(v1, v2)\n",
        "  l2_norm = (np.sqrt(sum(np.square(v1))) * np.sqrt(sum(np.square(v2))))\n",
        "  similarity = dot_product / l2_norm\n",
        "\n",
        "  return similarity"
      ]
    },
    {
      "cell_type": "markdown",
      "metadata": {
        "id": "GokBVyf-50v9"
      },
      "source": [
        "* TF-IDF로 벡터화된 행렬로 변환"
      ]
    },
    {
      "cell_type": "code",
      "execution_count": 7,
      "metadata": {
        "colab": {
          "base_uri": "https://localhost:8080/"
        },
        "id": "Ad57Kcsa5z2C",
        "outputId": "65d53d57-c905-4a51-db2b-17b340688e95"
      },
      "outputs": [
        {
          "output_type": "stream",
          "name": "stdout",
          "text": [
            "(3, 18)\n"
          ]
        }
      ],
      "source": [
        "from sklearn.feature_extraction.text import TfidfVectorizer\n",
        "\n",
        "doc_list = ['if you take the blue pill, the story ends',\n",
        "            'if you take the red pill, you stay in Wonderland',\n",
        "            'if you take the red pill, I show you how deep the rabbit hole goes']\n",
        "\n",
        "tfidf_vect_simple = TfidfVectorizer()\n",
        "feature_vect_simple = tfidf_vect_simple.fit_transform(doc_list)\n",
        "print(feature_vect_simple.shape)"
      ]
    },
    {
      "cell_type": "markdown",
      "metadata": {
        "id": "t7Obel5g6AK_"
      },
      "source": [
        "* 두개 문서의 유사도 측정"
      ]
    },
    {
      "cell_type": "code",
      "execution_count": 8,
      "metadata": {
        "colab": {
          "base_uri": "https://localhost:8080/"
        },
        "id": "5swJqQsw56PI",
        "outputId": "cd800bb9-4226-434d-fe04-aa7471e5f561"
      },
      "outputs": [
        {
          "output_type": "stream",
          "name": "stdout",
          "text": [
            "문장 1, 문장 2 Cosine 유사도: 0.402\n"
          ]
        }
      ],
      "source": [
        "# TfidfVectorizer로 transform()한 결과는 희소 행렬이므로 밀집 행렬로 변환.\n",
        "feature_vect_dense = feature_vect_simple.todense()\n",
        "\n",
        "# 첫 번째 문장과 두 번째 문장의 피처 벡터 추출\n",
        "vect1 = np.array(feature_vect_dense[0]).reshape(-1,)\n",
        "vect2 = np.array(feature_vect_dense[1]).reshape(-1,)\n",
        "\n",
        "# 첫 번째 문장과 두 번째 문장의 피처 벡터로 두 개 문장의 코사인 유사도 추출\n",
        "similarity_simple = cos_similarity(vect1, vect2)\n",
        "print('문장 1, 문장 2 Cosine 유사도: {0:.3f}'.format(similarity_simple))"
      ]
    },
    {
      "cell_type": "markdown",
      "metadata": {
        "id": "7wvg4Vpy6Fdq"
      },
      "source": [
        "=> 첫번째 문장과 두번째 문장의 코사인 유사도는 0.402이다."
      ]
    },
    {
      "cell_type": "markdown",
      "metadata": {
        "id": "A5RjMJun6Js0"
      },
      "source": [
        "* (첫번째 문장과 세번째 문장), (두번째 문장과 세번째 문장)의 유사도 측정"
      ]
    },
    {
      "cell_type": "code",
      "execution_count": 9,
      "metadata": {
        "colab": {
          "base_uri": "https://localhost:8080/"
        },
        "id": "Ym9W_yy557St",
        "outputId": "eef44344-c786-46f7-a1bf-98b33dfbc027"
      },
      "outputs": [
        {
          "output_type": "stream",
          "name": "stdout",
          "text": [
            "문장 1, 문장 3 Cosine 유사도: 0.404\n",
            "문장 2, 문장 3 Cosine 유사도: 0.456\n"
          ]
        }
      ],
      "source": [
        "vect1 = np.array(feature_vect_dense[0]).reshape(-1,)\n",
        "vect3 = np.array(feature_vect_dense[2]).reshape(-1,)\n",
        "similarity_simple = cos_similarity(vect1, vect3)\n",
        "print('문장 1, 문장 3 Cosine 유사도: {0:.3f}'.format(similarity_simple))\n",
        "\n",
        "# 두 번째 문장과 세 번째 문장의 유사도도 측정\n",
        "vect2 = np.array(feature_vect_dense[1]).reshape(-1,)\n",
        "vect3 = np.array(feature_vect_dense[2]).reshape(-1,)\n",
        "similarity_simple = cos_similarity(vect2, vect3)\n",
        "print('문장 2, 문장 3 Cosine 유사도: {0:.3f}'.format(similarity_simple))"
      ]
    },
    {
      "cell_type": "markdown",
      "metadata": {
        "id": "1ZFwdKn_6NE0"
      },
      "source": [
        "=> 각각 0.404, 0.456 유사도를 가진다."
      ]
    },
    {
      "cell_type": "markdown",
      "metadata": {
        "id": "4A646zgg6ZsQ"
      },
      "source": [
        "*  sklearn.metrics.pairwise.cosine_similarity API\n",
        "    * 사이킷런이 코사인 유사도를 측정하기 위해 제공함\n",
        "    * 희소행렬, 밀집 행렬 모두 간으해며 행렬 또는 배열도 가능함\n",
        "    * cos_similarity 함수와 같이 별도의 변환 작업이 필요없음"
      ]
    },
    {
      "cell_type": "code",
      "execution_count": 10,
      "metadata": {
        "colab": {
          "base_uri": "https://localhost:8080/"
        },
        "id": "3jm1vHHt58a-",
        "outputId": "449d17a7-69c8-4c83-a7d1-57655eae6bee"
      },
      "outputs": [
        {
          "output_type": "stream",
          "name": "stdout",
          "text": [
            "[[1.         0.40207758 0.40425045]]\n"
          ]
        }
      ],
      "source": [
        "from sklearn.metrics.pairwise import cosine_similarity\n",
        "\n",
        "similarity_simple_pair = cosine_similarity(feature_vect_simple[0], feature_vect_simple)\n",
        "print(similarity_simple_pair)"
      ]
    },
    {
      "cell_type": "code",
      "execution_count": 11,
      "metadata": {
        "colab": {
          "base_uri": "https://localhost:8080/"
        },
        "id": "1Gnn1rUi6r_-",
        "outputId": "da19fd2b-b886-44c9-fbb2-52a0fa324ecb"
      },
      "outputs": [
        {
          "output_type": "stream",
          "name": "stdout",
          "text": [
            "[[0.40207758 0.40425045]]\n"
          ]
        }
      ],
      "source": [
        "from sklearn.metrics.pairwise import cosine_similarity\n",
        "\n",
        "similarity_simple_pair = cosine_similarity(feature_vect_simple[0], feature_vect_simple[1:])\n",
        "print(similarity_simple_pair)"
      ]
    },
    {
      "cell_type": "markdown",
      "metadata": {
        "id": "tGMW61Tq61Fg"
      },
      "source": [
        "* 모든 개별 문서에 쌍으로 코사인 유사도 값 계산"
      ]
    },
    {
      "cell_type": "code",
      "execution_count": 12,
      "metadata": {
        "colab": {
          "base_uri": "https://localhost:8080/"
        },
        "id": "sS4TbqXp6tIN",
        "outputId": "17930a70-837c-4959-b6eb-f6af67c4ceec"
      },
      "outputs": [
        {
          "output_type": "stream",
          "name": "stdout",
          "text": [
            "[[1.         0.40207758 0.40425045]\n",
            " [0.40207758 1.         0.45647296]\n",
            " [0.40425045 0.45647296 1.        ]]\n",
            "shape: (3, 3)\n"
          ]
        }
      ],
      "source": [
        "similarity_simple_pair = cosine_similarity(feature_vect_simple, feature_vect_simple)\n",
        "print(similarity_simple_pair)\n",
        "print('shape:', similarity_simple_pair.shape)"
      ]
    },
    {
      "cell_type": "markdown",
      "metadata": {
        "id": "2kCUYW9P64fO"
      },
      "source": [
        "### **3) Opinion Review 데이터 세트를 이용한 문서 유사도 측정**"
      ]
    },
    {
      "cell_type": "markdown",
      "metadata": {
        "id": "JOe-ga047Ag7"
      },
      "source": [
        "* 데이터세트 로드 및 문서 군집화 적용"
      ]
    },
    {
      "cell_type": "code",
      "execution_count": 16,
      "metadata": {
        "id": "G0Csg_Hg637J"
      },
      "outputs": [],
      "source": [
        "from nltk.stem import WordNetLemmatizer\n",
        "import nltk\n",
        "import string\n",
        "\n",
        "remove_punct_dict = dict((ord(punct), None) for punct in string.punctuation)\n",
        "lemmar = WordNetLemmatizer()\n",
        "\n",
        "def LemTokens(tokens):\n",
        "    return [lemmar.lemmatize(token) for token in tokens]\n",
        "\n",
        "def LemNormalize(text):\n",
        "    return LemTokens(nltk.word_tokenize(text.lower().translate(remove_punct_dict)))"
      ]
    },
    {
      "cell_type": "code",
      "execution_count": 14,
      "metadata": {
        "colab": {
          "base_uri": "https://localhost:8080/"
        },
        "id": "6zCPmNNL-rYU",
        "outputId": "819dfd45-4630-4e51-8dff-7db643b6846b"
      },
      "outputs": [
        {
          "output_type": "stream",
          "name": "stderr",
          "text": [
            "[nltk_data] Downloading package punkt to /root/nltk_data...\n",
            "[nltk_data]   Unzipping tokenizers/punkt.zip.\n",
            "[nltk_data] Downloading package wordnet to /root/nltk_data...\n"
          ]
        },
        {
          "output_type": "execute_result",
          "data": {
            "text/plain": [
              "True"
            ]
          },
          "metadata": {},
          "execution_count": 14
        }
      ],
      "source": [
        "import pandas as pd\n",
        "import glob, os\n",
        "from sklearn.feature_extraction.text import TfidfVectorizer\n",
        "from sklearn.cluster import KMeans\n",
        "\n",
        "nltk.download('punkt')\n",
        "nltk.download('wordnet')"
      ]
    },
    {
      "cell_type": "code",
      "execution_count": 19,
      "metadata": {
        "colab": {
          "base_uri": "https://localhost:8080/"
        },
        "id": "_fIFzMMj-qgV",
        "outputId": "b056c4d1-c13a-42c3-ccf3-24550379e742"
      },
      "outputs": [
        {
          "output_type": "stream",
          "name": "stderr",
          "text": [
            "/usr/local/lib/python3.10/dist-packages/sklearn/feature_extraction/text.py:528: UserWarning: The parameter 'token_pattern' will not be used since 'tokenizer' is not None'\n",
            "  warnings.warn(\n",
            "/usr/local/lib/python3.10/dist-packages/sklearn/feature_extraction/text.py:409: UserWarning: Your stop_words may be inconsistent with your preprocessing. Tokenizing the stop words generated tokens ['ha', 'le', 'u', 'wa'] not in stop_words.\n",
            "  warnings.warn(\n"
          ]
        }
      ],
      "source": [
        "path = r'/content/drive/MyDrive/ESAA/OB/data/topics'\n",
        "all_files=glob.glob(os.path.join(path, '*.data'))\n",
        "filename_list=[]\n",
        "opinion_text=[]\n",
        "\n",
        "for file_ in all_files:\n",
        "    df = pd.read_table(file_,index_col = None, header = 0,encoding = 'latin1')\n",
        "    filename_ = file_.split('\\\\')[-1]\n",
        "    filename = filename_.split('.')[0]\n",
        "    filename_list.append(filename)\n",
        "    opinion_text.append(df.to_string())\n",
        "\n",
        "document_df = pd.DataFrame({'filename':filename_list, 'opinion_text':opinion_text})\n",
        "\n",
        "# 피처 벡터화\n",
        "tfidf_vect = TfidfVectorizer(tokenizer = LemNormalize, stop_words = 'english', \\\n",
        "                             ngram_range = (1,2), min_df = 0.05, max_df = 0.85)\n",
        "\n",
        "feature_vect = tfidf_vect.fit_transform(document_df['opinion_text'])"
      ]
    },
    {
      "cell_type": "code",
      "execution_count": 20,
      "metadata": {
        "colab": {
          "base_uri": "https://localhost:8080/"
        },
        "id": "WTpBl65QAe_b",
        "outputId": "d1be482c-dd42-49c9-d342-3fb03e0023ee"
      },
      "outputs": [
        {
          "output_type": "stream",
          "name": "stderr",
          "text": [
            "/usr/local/lib/python3.10/dist-packages/sklearn/cluster/_kmeans.py:870: FutureWarning: The default value of `n_init` will change from 10 to 'auto' in 1.4. Set the value of `n_init` explicitly to suppress the warning\n",
            "  warnings.warn(\n"
          ]
        }
      ],
      "source": [
        "# 문서 군집화\n",
        "km_cluster = KMeans(n_clusters = 3, max_iter = 10000, random_state = 0)\n",
        "km_cluster.fit(feature_vect)\n",
        "cluster_label = km_cluster.labels_\n",
        "cluster_centers = km_cluster.cluster_centers_\n",
        "document_df['cluster_label'] = cluster_label"
      ]
    },
    {
      "cell_type": "code",
      "execution_count": 21,
      "metadata": {
        "colab": {
          "base_uri": "https://localhost:8080/"
        },
        "id": "8j2f76pSA3iH",
        "outputId": "5728addb-f8e3-4970-9274-830da33fd129"
      },
      "outputs": [
        {
          "output_type": "stream",
          "name": "stdout",
          "text": [
            "호텔로 클러스터링 된 문서들의 DataFrame Index: Int64Index([5, 10, 15, 16, 18, 31, 35, 36, 46, 49], dtype='int64')\n",
            "##### 비교 기준 문서명  /content/drive/MyDrive/ESAA/OB/data/topics/interior_honda_accord_2008  와 타 문서 유사도######\n",
            "[[1.         0.33044002 0.92932107 0.29443403 0.05452321 0.20216909\n",
            "  0.16241477 0.0431775  0.03937962 0.17928067]]\n"
          ]
        }
      ],
      "source": [
        "from sklearn.metrics.pairwise import cosine_similarity\n",
        "\n",
        "# cluster_label = 1인 데이터는 호텔로 클러스터링된 데이터임\n",
        "# DataFrame에서 해당 Index를 추출\n",
        "hotel_indexes = document_df[document_df['cluster_label'] == 1].index\n",
        "print('호텔로 클러스터링 된 문서들의 DataFrame Index:', hotel_indexes)\n",
        "\n",
        "# 호텔로 클러스터링 된 데이터 중 첫번째 문서를 추출하여 파일명 표시\n",
        "comparison_docname = document_df.iloc[hotel_indexes[0]]['filename']\n",
        "print('##### 비교 기준 문서명 ',comparison_docname,' 와 타 문서 유사도######')\n",
        "\n",
        "''' document_df에서 추출한 Index 객체를 feature_vect로 입력하여 호텔 클러스터링된 feature_vect 추출\n",
        "이를 이용하여 호텔로 클러스터링 된 문서 중 첫번째 문서와 다른 문서간의 코사인 유사도 측정'''\n",
        "similarity_pair = cosine_similarity(feature_vect[hotel_indexes[0]] , feature_vect[hotel_indexes])\n",
        "print(similarity_pair)"
      ]
    },
    {
      "cell_type": "markdown",
      "metadata": {
        "id": "cxjyvE9BBBoa"
      },
      "source": [
        "* 첫번째 문서와 다른 문서간에 유사도가 높은 순으로 정렬하고 시각화"
      ]
    },
    {
      "cell_type": "code",
      "execution_count": 22,
      "metadata": {
        "colab": {
          "base_uri": "https://localhost:8080/",
          "height": 284
        },
        "id": "0V1Rsw-RA_py",
        "outputId": "809eac3d-659d-4a27-e222-4cbbcb0195b6"
      },
      "outputs": [
        {
          "output_type": "execute_result",
          "data": {
            "text/plain": [
              "Text(0.5, 1.0, '/content/drive/MyDrive/ESAA/OB/data/topics/interior_honda_accord_2008')"
            ]
          },
          "metadata": {},
          "execution_count": 22
        },
        {
          "output_type": "display_data",
          "data": {
            "text/plain": [
              "<Figure size 640x480 with 1 Axes>"
            ],
            "image/png": "[encoded data removed]"
          },
          "metadata": {}
        }
      ],
      "source": [
        "import seaborn as sns\n",
        "import numpy as np\n",
        "import matplotlib.pyplot as plt\n",
        "%matplotlib inline\n",
        "\n",
        "# argsort()를 이용하여 앞 예제의 첫번째 문서와 타 문서 간 유사도가 큰 순으로 정렬한 인덱스를 반환하되 자기 자신은 제외.\n",
        "sorted_index = similarity_pair.argsort()[:,::-1]\n",
        "sorted_index = sorted_index[:, 1:]\n",
        "\n",
        "# 유사도가 큰 순으로 hotel_indexes를 추출하여 재정렬\n",
        "hotel_sorted_indexes = hotel_indexes[sorted_index.reshape(-1)]\n",
        "\n",
        "# 유사도가 큰 순으로 유사도 값을 재정렬하되 자기 자신은 제외\n",
        "hotel_1_sim_value = np.sort(similarity_pair.reshape(-1))[::-1]\n",
        "hotel_1_sim_value = hotel_1_sim_value[1:]\n",
        "\n",
        "# 유사도가 큰 순으로 정렬된 Index와 유사도 값을 이용하여 파일명과 유사도값을 Seaborn 막대 그래프로 시각화\n",
        "hotel_1_sim_df = pd.DataFrame()\n",
        "hotel_1_sim_df['filename'] = document_df.iloc[hotel_sorted_indexes]['filename']\n",
        "hotel_1_sim_df['similarity'] = hotel_1_sim_value\n",
        "\n",
        "sns.barplot(x='similarity', y='filename',data=hotel_1_sim_df)\n",
        "plt.title(comparison_docname)"
      ]
    },
    {
      "cell_type": "markdown",
      "metadata": {
        "id": "iNxzl6EhBHLF"
      },
      "source": [
        "=> 첫번째 문서인 샌프란시스코의 베스트 웨스턴 호텔 화장실 리뷰와 가장 비슷한 문서는 room_holiday_inn_london이다."
      ]
    },
    {
      "cell_type": "markdown",
      "metadata": {
        "id": "1bi2EesbBP3j"
      },
      "source": [
        "## **09. 한글 텍스트 처리 - 네이버 영화 평점 감성 분석**"
      ]
    },
    {
      "cell_type": "markdown",
      "metadata": {
        "id": "zLfFVnYOBUpa"
      },
      "source": [
        "### **1) 한글 NLP 처리의 어려움**\n",
        "\n",
        "일반적으로 한글 언어 처리는 영어 등의 라틴어 처리보다 어렵다.\n",
        "* 띄어쓰기\n",
        "* 다양한 조사"
      ]
    },
    {
      "cell_type": "markdown",
      "metadata": {
        "id": "QDbvy2DtBiGQ"
      },
      "source": [
        "### **2) KoNLPy 소개**\n",
        "\n",
        "KoNLPy는 파이썬의 대표적인 한글 형태소 패키지이다.\n"
      ]
    },
    {
      "cell_type": "code",
      "execution_count": 23,
      "metadata": {
        "colab": {
          "base_uri": "https://localhost:8080/"
        },
        "id": "I2sNcj4sBFpq",
        "outputId": "92b5610b-2248-4c20-80a8-2836b179f8e0"
      },
      "outputs": [
        {
          "output_type": "stream",
          "name": "stdout",
          "text": [
            "Requirement already satisfied: pip in /usr/local/lib/python3.10/dist-packages (23.1.2)\n",
            "Collecting pip\n",
            "  Downloading pip-23.3.1-py3-none-any.whl (2.1 MB)\n",
            "\u001b[2K     \u001b[90m━━━━━━━━━━━━━━━━━━━━━━━━━━━━━━━━━━━━━━━━\u001b[0m \u001b[32m2.1/2.1 MB\u001b[0m \u001b[31m23.2 MB/s\u001b[0m eta \u001b[36m0:00:00\u001b[0m\n",
            "\u001b[?25hInstalling collected packages: pip\n",
            "  Attempting uninstall: pip\n",
            "    Found existing installation: pip 23.1.2\n",
            "    Uninstalling pip-23.1.2:\n",
            "      Successfully uninstalled pip-23.1.2\n",
            "Successfully installed pip-23.3.1\n",
            "\u001b[33mWARNING: Requirement 'JPype1-1.4.0-cp310-cp310-win_amd64.whl' looks like a filename, but the file does not exist\u001b[0m\u001b[33m\n",
            "\u001b[0m\u001b[31mERROR: JPype1-1.4.0-cp310-cp310-win_amd64.whl is not a supported wheel on this platform.\u001b[0m\u001b[31m\n",
            "\u001b[0m"
          ]
        }
      ],
      "source": [
        "!pip install --upgrade pip\n",
        "!pip install JPype1-1.4.0-cp310-cp310-win_amd64.whl"
      ]
    },
    {
      "cell_type": "code",
      "execution_count": 24,
      "metadata": {
        "colab": {
          "base_uri": "https://localhost:8080/"
        },
        "id": "Li3Sk3OIBwm9",
        "outputId": "a5c602a5-bd43-46d4-b7ee-bcb16a00de0f"
      },
      "outputs": [
        {
          "output_type": "stream",
          "name": "stdout",
          "text": [
            "Collecting konlpy\n",
            "  Downloading konlpy-0.6.0-py2.py3-none-any.whl (19.4 MB)\n",
            "\u001b[2K     \u001b[90m━━━━━━━━━━━━━━━━━━━━━━━━━━━━━━━━━━━━━━━━\u001b[0m \u001b[32m19.4/19.4 MB\u001b[0m \u001b[31m51.6 MB/s\u001b[0m eta \u001b[36m0:00:00\u001b[0m\n",
            "\u001b[?25hCollecting JPype1>=0.7.0 (from konlpy)\n",
            "  Downloading JPype1-1.4.1-cp310-cp310-manylinux_2_12_x86_64.manylinux2010_x86_64.whl (465 kB)\n",
            "\u001b[2K     \u001b[90m━━━━━━━━━━━━━━━━━━━━━━━━━━━━━━━━━━━━━━━━\u001b[0m \u001b[32m465.3/465.3 kB\u001b[0m \u001b[31m24.9 MB/s\u001b[0m eta \u001b[36m0:00:00\u001b[0m\n",
            "\u001b[?25hRequirement already satisfied: lxml>=4.1.0 in /usr/local/lib/python3.10/dist-packages (from konlpy) (4.9.3)\n",
            "Requirement already satisfied: numpy>=1.6 in /usr/local/lib/python3.10/dist-packages (from konlpy) (1.23.5)\n",
            "Requirement already satisfied: packaging in /usr/local/lib/python3.10/dist-packages (from JPype1>=0.7.0->konlpy) (23.2)\n",
            "Installing collected packages: JPype1, konlpy\n",
            "Successfully installed JPype1-1.4.1 konlpy-0.6.0\n",
            "\u001b[33mWARNING: Running pip as the 'root' user can result in broken permissions and conflicting behaviour with the system package manager. It is recommended to use a virtual environment instead: https://pip.pypa.io/warnings/venv\u001b[0m\u001b[33m\n",
            "\u001b[0m"
          ]
        }
      ],
      "source": [
        "pip install konlpy"
      ]
    },
    {
      "cell_type": "markdown",
      "metadata": {
        "id": "VP2geM7WB0lG"
      },
      "source": [
        "### **3) 데이터 로딩**"
      ]
    },
    {
      "cell_type": "code",
      "execution_count": 25,
      "metadata": {
        "colab": {
          "base_uri": "https://localhost:8080/",
          "height": 143
        },
        "id": "tl0HxxK1ByPs",
        "outputId": "16bcd041-f848-40d2-df86-2a931413fb7c"
      },
      "outputs": [
        {
          "output_type": "execute_result",
          "data": {
            "text/plain": [
              "         id                           document  label\n",
              "0   9976970                아 더빙.. 진짜 짜증나네요 목소리      0\n",
              "1   3819312  흠...포스터보고 초딩영화줄....오버연기조차 가볍지 않구나      1\n",
              "2  10265843                  너무재밓었다그래서보는것을추천한다      0"
            ],
            "text/html": [
              "\n",
              "  <div id=\"df-8285bc08-0ad4-400b-8a5b-6a4acd2f85dc\" class=\"colab-df-container\">\n",
              "    <div>\n",
              "<style scoped>\n",
              "    .dataframe tbody tr th:only-of-type {\n",
              "        vertical-align: middle;\n",
              "    }\n",
              "\n",
              "    .dataframe tbody tr th {\n",
              "        vertical-align: top;\n",
              "    }\n",
              "\n",
              "    .dataframe thead th {\n",
              "        text-align: right;\n",
              "    }\n",
              "</style>\n",
              "<table border=\"1\" class=\"dataframe\">\n",
              "  <thead>\n",
              "    <tr style=\"text-align: right;\">\n",
              "      <th></th>\n",
              "      <th>id</th>\n",
              "      <th>document</th>\n",
              "      <th>label</th>\n",
              "    </tr>\n",
              "  </thead>\n",
              "  <tbody>\n",
              "    <tr>\n",
              "      <th>0</th>\n",
              "      <td>9976970</td>\n",
              "      <td>아 더빙.. 진짜 짜증나네요 목소리</td>\n",
              "      <td>0</td>\n",
              "    </tr>\n",
              "    <tr>\n",
              "      <th>1</th>\n",
              "      <td>3819312</td>\n",
              "      <td>흠...포스터보고 초딩영화줄....오버연기조차 가볍지 않구나</td>\n",
              "      <td>1</td>\n",
              "    </tr>\n",
              "    <tr>\n",
              "      <th>2</th>\n",
              "      <td>10265843</td>\n",
              "      <td>너무재밓었다그래서보는것을추천한다</td>\n",
              "      <td>0</td>\n",
              "    </tr>\n",
              "  </tbody>\n",
              "</table>\n",
              "</div>\n",
              "    <div class=\"colab-df-buttons\">\n",
              "\n",
              "  <div class=\"colab-df-container\">\n",
              "    <button class=\"colab-df-convert\" onclick=\"convertToInteractive('df-8285bc08-0ad4-400b-8a5b-6a4acd2f85dc')\"\n",
              "            title=\"Convert this dataframe to an interactive table.\"\n",
              "            style=\"display:none;\">\n",
              "\n",
              "  <svg xmlns=\"http://www.w3.org/2000/svg\" height=\"24px\" viewBox=\"0 -960 960 960\">\n",
              "    <path d=\"M120-120v-720h720v720H120Zm60-500h600v-160H180v160Zm220 220h160v-160H400v160Zm0 220h160v-160H400v160ZM180-400h160v-160H180v160Zm440 0h160v-160H620v160ZM180-180h160v-160H180v160Zm440 0h160v-160H620v160Z\"/>\n",
              "  </svg>\n",
              "    </button>\n",
              "\n",
              "  <style>\n",
              "    .colab-df-container {\n",
              "      display:flex;\n",
              "      gap: 12px;\n",
              "    }\n",
              "\n",
              "    .colab-df-convert {\n",
              "      background-color: #E8F0FE;\n",
              "      border: none;\n",
              "      border-radius: 50%;\n",
              "      cursor: pointer;\n",
              "      display: none;\n",
              "      fill: #1967D2;\n",
              "      height: 32px;\n",
              "      padding: 0 0 0 0;\n",
              "      width: 32px;\n",
              "    }\n",
              "\n",
              "    .colab-df-convert:hover {\n",
              "      background-color: #E2EBFA;\n",
              "      box-shadow: 0px 1px 2px rgba(60, 64, 67, 0.3), 0px 1px 3px 1px rgba(60, 64, 67, 0.15);\n",
              "      fill: #174EA6;\n",
              "    }\n",
              "\n",
              "    .colab-df-buttons div {\n",
              "      margin-bottom: 4px;\n",
              "    }\n",
              "\n",
              "    [theme=dark] .colab-df-convert {\n",
              "      background-color: #3B4455;\n",
              "      fill: #D2E3FC;\n",
              "    }\n",
              "\n",
              "    [theme=dark] .colab-df-convert:hover {\n",
              "      background-color: #434B5C;\n",
              "      box-shadow: 0px 1px 3px 1px rgba(0, 0, 0, 0.15);\n",
              "      filter: drop-shadow(0px 1px 2px rgba(0, 0, 0, 0.3));\n",
              "      fill: #FFFFFF;\n",
              "    }\n",
              "  </style>\n",
              "\n",
              "    <script>\n",
              "      const buttonEl =\n",
              "        document.querySelector('#df-8285bc08-0ad4-400b-8a5b-6a4acd2f85dc button.colab-df-convert');\n",
              "      buttonEl.style.display =\n",
              "        google.colab.kernel.accessAllowed ? 'block' : 'none';\n",
              "\n",
              "      async function convertToInteractive(key) {\n",
              "        const element = document.querySelector('#df-8285bc08-0ad4-400b-8a5b-6a4acd2f85dc');\n",
              "        const dataTable =\n",
              "          await google.colab.kernel.invokeFunction('convertToInteractive',\n",
              "                                                    [key], {});\n",
              "        if (!dataTable) return;\n",
              "\n",
              "        const docLinkHtml = 'Like what you see? Visit the ' +\n",
              "          '<a target=\"_blank\" href=https://colab.research.google.com/notebooks/data_table.ipynb>data table notebook</a>'\n",
              "          + ' to learn more about interactive tables.';\n",
              "        element.innerHTML = '';\n",
              "        dataTable['output_type'] = 'display_data';\n",
              "        await google.colab.output.renderOutput(dataTable, element);\n",
              "        const docLink = document.createElement('div');\n",
              "        docLink.innerHTML = docLinkHtml;\n",
              "        element.appendChild(docLink);\n",
              "      }\n",
              "    </script>\n",
              "  </div>\n",
              "\n",
              "\n",
              "<div id=\"df-3e4b3190-8897-4a17-aec0-a2259067d17b\">\n",
              "  <button class=\"colab-df-quickchart\" onclick=\"quickchart('df-3e4b3190-8897-4a17-aec0-a2259067d17b')\"\n",
              "            title=\"Suggest charts.\"\n",
              "            style=\"display:none;\">\n",
              "\n",
              "<svg xmlns=\"http://www.w3.org/2000/svg\" height=\"24px\"viewBox=\"0 0 24 24\"\n",
              "     width=\"24px\">\n",
              "    <g>\n",
              "        <path d=\"M19 3H5c-1.1 0-2 .9-2 2v14c0 1.1.9 2 2 2h14c1.1 0 2-.9 2-2V5c0-1.1-.9-2-2-2zM9 17H7v-7h2v7zm4 0h-2V7h2v10zm4 0h-2v-4h2v4z\"/>\n",
              "    </g>\n",
              "</svg>\n",
              "  </button>\n",
              "\n",
              "<style>\n",
              "  .colab-df-quickchart {\n",
              "      --bg-color: #E8F0FE;\n",
              "      --fill-color: #1967D2;\n",
              "      --hover-bg-color: #E2EBFA;\n",
              "      --hover-fill-color: #174EA6;\n",
              "      --disabled-fill-color: #AAA;\n",
              "      --disabled-bg-color: #DDD;\n",
              "  }\n",
              "\n",
              "  [theme=dark] .colab-df-quickchart {\n",
              "      --bg-color: #3B4455;\n",
              "      --fill-color: #D2E3FC;\n",
              "      --hover-bg-color: #434B5C;\n",
              "      --hover-fill-color: #FFFFFF;\n",
              "      --disabled-bg-color: #3B4455;\n",
              "      --disabled-fill-color: #666;\n",
              "  }\n",
              "\n",
              "  .colab-df-quickchart {\n",
              "    background-color: var(--bg-color);\n",
              "    border: none;\n",
              "    border-radius: 50%;\n",
              "    cursor: pointer;\n",
              "    display: none;\n",
              "    fill: var(--fill-color);\n",
              "    height: 32px;\n",
              "    padding: 0;\n",
              "    width: 32px;\n",
              "  }\n",
              "\n",
              "  .colab-df-quickchart:hover {\n",
              "    background-color: var(--hover-bg-color);\n",
              "    box-shadow: 0 1px 2px rgba(60, 64, 67, 0.3), 0 1px 3px 1px rgba(60, 64, 67, 0.15);\n",
              "    fill: var(--button-hover-fill-color);\n",
              "  }\n",
              "\n",
              "  .colab-df-quickchart-complete:disabled,\n",
              "  .colab-df-quickchart-complete:disabled:hover {\n",
              "    background-color: var(--disabled-bg-color);\n",
              "    fill: var(--disabled-fill-color);\n",
              "    box-shadow: none;\n",
              "  }\n",
              "\n",
              "  .colab-df-spinner {\n",
              "    border: 2px solid var(--fill-color);\n",
              "    border-color: transparent;\n",
              "    border-bottom-color: var(--fill-color);\n",
              "    animation:\n",
              "      spin 1s steps(1) infinite;\n",
              "  }\n",
              "\n",
              "  @keyframes spin {\n",
              "    0% {\n",
              "      border-color: transparent;\n",
              "      border-bottom-color: var(--fill-color);\n",
              "      border-left-color: var(--fill-color);\n",
              "    }\n",
              "    20% {\n",
              "      border-color: transparent;\n",
              "      border-left-color: var(--fill-color);\n",
              "      border-top-color: var(--fill-color);\n",
              "    }\n",
              "    30% {\n",
              "      border-color: transparent;\n",
              "      border-left-color: var(--fill-color);\n",
              "      border-top-color: var(--fill-color);\n",
              "      border-right-color: var(--fill-color);\n",
              "    }\n",
              "    40% {\n",
              "      border-color: transparent;\n",
              "      border-right-color: var(--fill-color);\n",
              "      border-top-color: var(--fill-color);\n",
              "    }\n",
              "    60% {\n",
              "      border-color: transparent;\n",
              "      border-right-color: var(--fill-color);\n",
              "    }\n",
              "    80% {\n",
              "      border-color: transparent;\n",
              "      border-right-color: var(--fill-color);\n",
              "      border-bottom-color: var(--fill-color);\n",
              "    }\n",
              "    90% {\n",
              "      border-color: transparent;\n",
              "      border-bottom-color: var(--fill-color);\n",
              "    }\n",
              "  }\n",
              "</style>\n",
              "\n",
              "  <script>\n",
              "    async function quickchart(key) {\n",
              "      const quickchartButtonEl =\n",
              "        document.querySelector('#' + key + ' button');\n",
              "      quickchartButtonEl.disabled = true;  // To prevent multiple clicks.\n",
              "      quickchartButtonEl.classList.add('colab-df-spinner');\n",
              "      try {\n",
              "        const charts = await google.colab.kernel.invokeFunction(\n",
              "            'suggestCharts', [key], {});\n",
              "      } catch (error) {\n",
              "        console.error('Error during call to suggestCharts:', error);\n",
              "      }\n",
              "      quickchartButtonEl.classList.remove('colab-df-spinner');\n",
              "      quickchartButtonEl.classList.add('colab-df-quickchart-complete');\n",
              "    }\n",
              "    (() => {\n",
              "      let quickchartButtonEl =\n",
              "        document.querySelector('#df-3e4b3190-8897-4a17-aec0-a2259067d17b button');\n",
              "      quickchartButtonEl.style.display =\n",
              "        google.colab.kernel.accessAllowed ? 'block' : 'none';\n",
              "    })();\n",
              "  </script>\n",
              "</div>\n",
              "    </div>\n",
              "  </div>\n"
            ]
          },
          "metadata": {},
          "execution_count": 25
        }
      ],
      "source": [
        "import pandas as pd\n",
        "\n",
        "train_df = pd.read_csv('/content/drive/MyDrive/ESAA/OB/data/movie_rating/ratings_train.txt', sep = '\\t')\n",
        "train_df.head(3)"
      ]
    },
    {
      "cell_type": "code",
      "execution_count": 26,
      "metadata": {
        "colab": {
          "base_uri": "https://localhost:8080/"
        },
        "id": "by4tlwm1CZp2",
        "outputId": "8c787d90-d824-4ebf-8368-89f798fccd1d"
      },
      "outputs": [
        {
          "output_type": "execute_result",
          "data": {
            "text/plain": [
              "0    75173\n",
              "1    74827\n",
              "Name: label, dtype: int64"
            ]
          },
          "metadata": {},
          "execution_count": 26
        }
      ],
      "source": [
        "# label 값 비율 파악하기\n",
        "\n",
        "train_df['label'].value_counts( )"
      ]
    },
    {
      "cell_type": "markdown",
      "metadata": {
        "id": "QwR0oxsjCczt"
      },
      "source": [
        "=> 어느 한쪽으로 치우치지 않고 균등한 분포를 나타내고 있다.\n",
        "\n",
        "=> 이때, train_df의 경우 리뷰 텍스트를 가지는 'documnet' 칼럼에 Null 일부 존재해 공백으로 변환해야한다. 문자가 아닌 숫자의 경우 단어적인 의미로 부족해 파이썬 정규 표현식 모듈인 re 이용해 공백으로 변환해야한다."
      ]
    },
    {
      "cell_type": "code",
      "execution_count": 27,
      "metadata": {
        "id": "UtomnjqlCaqx"
      },
      "outputs": [],
      "source": [
        "import re\n",
        "\n",
        "# 공백 처리\n",
        "train_df = train_df.fillna(' ')\n",
        "\n",
        "# 정규 표현식을 이용하여 숫자를 공백으로 변경(정규 표현식으로 \\d는 숫자를 의미)\n",
        "train_df['document'] = train_df['document'].apply(lambda x : re.sub(r\"\\d+\", \" \", x))\n",
        "\n",
        "# 테스트 데이터 셋을 로딩하고 동일하게 Null 및 숫자를 공백으로 변환\n",
        "test_df = pd.read_csv('/content/drive/MyDrive/ESAA/OB/data/movie_rating/ratings_test.txt', sep='\\t')\n",
        "test_df = test_df.fillna(' ')\n",
        "test_df['document'] = test_df['document'].apply(lambda x : re.sub(r\"\\d+\", \" \", x))\n",
        "\n",
        "# id 칼럼 삭제\n",
        "train_df.drop('id', axis = 1, inplace = True)\n",
        "test_df.drop('id', axis = 1, inplace = True)"
      ]
    },
    {
      "cell_type": "markdown",
      "metadata": {
        "id": "gUTY57a5Cwe-"
      },
      "source": [
        "* 각 문장을 형태소 단어로 토큰화 -twitter 클래스 사용"
      ]
    },
    {
      "cell_type": "code",
      "execution_count": 28,
      "metadata": {
        "colab": {
          "base_uri": "https://localhost:8080/"
        },
        "id": "r5EtRjIKChDe",
        "outputId": "84f34a7b-46cb-47fd-86cc-c5debb9ed8e5"
      },
      "outputs": [
        {
          "output_type": "stream",
          "name": "stderr",
          "text": [
            "/usr/local/lib/python3.10/dist-packages/konlpy/tag/_okt.py:17: UserWarning: \"Twitter\" has changed to \"Okt\" since KoNLPy v0.4.5.\n",
            "  warn('\"Twitter\" has changed to \"Okt\" since KoNLPy v0.4.5.')\n"
          ]
        }
      ],
      "source": [
        "from konlpy.tag import Twitter\n",
        "\n",
        "# \"Twitter\" has changed to \"Okt\"\n",
        "twitter = Twitter()\n",
        "def tw_tokenizer(text):\n",
        "  # 입력 인자로 들어온 텍스트를 형태소 단어로 토큰화해 리스트 형태로 반환\n",
        "  tokens_ko = twitter.morphs(text)\n",
        "  return tokens_ko"
      ]
    },
    {
      "cell_type": "markdown",
      "metadata": {
        "id": "JOwqP9i_C555"
      },
      "source": [
        "* TF-IDF 피처 모델 생성"
      ]
    },
    {
      "cell_type": "code",
      "execution_count": 29,
      "metadata": {
        "colab": {
          "base_uri": "https://localhost:8080/"
        },
        "id": "kbz3MQczC4ay",
        "outputId": "d5ed0aa9-83d8-4507-e296-487b4eebf789"
      },
      "outputs": [
        {
          "output_type": "stream",
          "name": "stderr",
          "text": [
            "/usr/local/lib/python3.10/dist-packages/sklearn/feature_extraction/text.py:528: UserWarning: The parameter 'token_pattern' will not be used since 'tokenizer' is not None'\n",
            "  warnings.warn(\n"
          ]
        }
      ],
      "source": [
        "from sklearn.feature_extraction.text import TfidfVectorizer\n",
        "from sklearn.linear_model import LogisticRegression\n",
        "from sklearn.model_selection import GridSearchCV\n",
        "\n",
        "# Twitter 객체의 morphs() 객체를 이용한 tokenizer를 사용. ngram_range는 (1,2)\n",
        "tfidf_vect = TfidfVectorizer(tokenizer=tw_tokenizer, ngram_range=(1,2), min_df=3, max_df=0.9)\n",
        "tfidf_vect.fit(train_df['document'])\n",
        "tfidf_matrix_train = tfidf_vect.transform(train_df['document'])"
      ]
    },
    {
      "cell_type": "markdown",
      "metadata": {
        "id": "WhjBRzJ1C9pY"
      },
      "source": [
        "* 로지스틱 회귀를 이용하여 분류 기반의 감성분석 수행"
      ]
    },
    {
      "cell_type": "code",
      "execution_count": 30,
      "metadata": {
        "colab": {
          "base_uri": "https://localhost:8080/"
        },
        "id": "HKA75CzmC9AA",
        "outputId": "b2fbe3b3-2f23-4177-dde7-965bb3a82113"
      },
      "outputs": [
        {
          "output_type": "stream",
          "name": "stdout",
          "text": [
            "Fitting 3 folds for each of 5 candidates, totalling 15 fits\n"
          ]
        },
        {
          "output_type": "stream",
          "name": "stderr",
          "text": [
            "/usr/local/lib/python3.10/dist-packages/sklearn/linear_model/_logistic.py:458: ConvergenceWarning: lbfgs failed to converge (status=1):\n",
            "STOP: TOTAL NO. of ITERATIONS REACHED LIMIT.\n",
            "\n",
            "Increase the number of iterations (max_iter) or scale the data as shown in:\n",
            "    https://scikit-learn.org/stable/modules/preprocessing.html\n",
            "Please also refer to the documentation for alternative solver options:\n",
            "    https://scikit-learn.org/stable/modules/linear_model.html#logistic-regression\n",
            "  n_iter_i = _check_optimize_result(\n",
            "/usr/local/lib/python3.10/dist-packages/sklearn/linear_model/_logistic.py:458: ConvergenceWarning: lbfgs failed to converge (status=1):\n",
            "STOP: TOTAL NO. of ITERATIONS REACHED LIMIT.\n",
            "\n",
            "Increase the number of iterations (max_iter) or scale the data as shown in:\n",
            "    https://scikit-learn.org/stable/modules/preprocessing.html\n",
            "Please also refer to the documentation for alternative solver options:\n",
            "    https://scikit-learn.org/stable/modules/linear_model.html#logistic-regression\n",
            "  n_iter_i = _check_optimize_result(\n",
            "/usr/local/lib/python3.10/dist-packages/sklearn/linear_model/_logistic.py:458: ConvergenceWarning: lbfgs failed to converge (status=1):\n",
            "STOP: TOTAL NO. of ITERATIONS REACHED LIMIT.\n",
            "\n",
            "Increase the number of iterations (max_iter) or scale the data as shown in:\n",
            "    https://scikit-learn.org/stable/modules/preprocessing.html\n",
            "Please also refer to the documentation for alternative solver options:\n",
            "    https://scikit-learn.org/stable/modules/linear_model.html#logistic-regression\n",
            "  n_iter_i = _check_optimize_result(\n",
            "/usr/local/lib/python3.10/dist-packages/sklearn/linear_model/_logistic.py:458: ConvergenceWarning: lbfgs failed to converge (status=1):\n",
            "STOP: TOTAL NO. of ITERATIONS REACHED LIMIT.\n",
            "\n",
            "Increase the number of iterations (max_iter) or scale the data as shown in:\n",
            "    https://scikit-learn.org/stable/modules/preprocessing.html\n",
            "Please also refer to the documentation for alternative solver options:\n",
            "    https://scikit-learn.org/stable/modules/linear_model.html#logistic-regression\n",
            "  n_iter_i = _check_optimize_result(\n",
            "/usr/local/lib/python3.10/dist-packages/sklearn/linear_model/_logistic.py:458: ConvergenceWarning: lbfgs failed to converge (status=1):\n",
            "STOP: TOTAL NO. of ITERATIONS REACHED LIMIT.\n",
            "\n",
            "Increase the number of iterations (max_iter) or scale the data as shown in:\n",
            "    https://scikit-learn.org/stable/modules/preprocessing.html\n",
            "Please also refer to the documentation for alternative solver options:\n",
            "    https://scikit-learn.org/stable/modules/linear_model.html#logistic-regression\n",
            "  n_iter_i = _check_optimize_result(\n",
            "/usr/local/lib/python3.10/dist-packages/sklearn/linear_model/_logistic.py:458: ConvergenceWarning: lbfgs failed to converge (status=1):\n",
            "STOP: TOTAL NO. of ITERATIONS REACHED LIMIT.\n",
            "\n",
            "Increase the number of iterations (max_iter) or scale the data as shown in:\n",
            "    https://scikit-learn.org/stable/modules/preprocessing.html\n",
            "Please also refer to the documentation for alternative solver options:\n",
            "    https://scikit-learn.org/stable/modules/linear_model.html#logistic-regression\n",
            "  n_iter_i = _check_optimize_result(\n",
            "/usr/local/lib/python3.10/dist-packages/sklearn/linear_model/_logistic.py:458: ConvergenceWarning: lbfgs failed to converge (status=1):\n",
            "STOP: TOTAL NO. of ITERATIONS REACHED LIMIT.\n",
            "\n",
            "Increase the number of iterations (max_iter) or scale the data as shown in:\n",
            "    https://scikit-learn.org/stable/modules/preprocessing.html\n",
            "Please also refer to the documentation for alternative solver options:\n",
            "    https://scikit-learn.org/stable/modules/linear_model.html#logistic-regression\n",
            "  n_iter_i = _check_optimize_result(\n",
            "/usr/local/lib/python3.10/dist-packages/sklearn/linear_model/_logistic.py:458: ConvergenceWarning: lbfgs failed to converge (status=1):\n",
            "STOP: TOTAL NO. of ITERATIONS REACHED LIMIT.\n",
            "\n",
            "Increase the number of iterations (max_iter) or scale the data as shown in:\n",
            "    https://scikit-learn.org/stable/modules/preprocessing.html\n",
            "Please also refer to the documentation for alternative solver options:\n",
            "    https://scikit-learn.org/stable/modules/linear_model.html#logistic-regression\n",
            "  n_iter_i = _check_optimize_result(\n",
            "/usr/local/lib/python3.10/dist-packages/sklearn/linear_model/_logistic.py:458: ConvergenceWarning: lbfgs failed to converge (status=1):\n",
            "STOP: TOTAL NO. of ITERATIONS REACHED LIMIT.\n",
            "\n",
            "Increase the number of iterations (max_iter) or scale the data as shown in:\n",
            "    https://scikit-learn.org/stable/modules/preprocessing.html\n",
            "Please also refer to the documentation for alternative solver options:\n",
            "    https://scikit-learn.org/stable/modules/linear_model.html#logistic-regression\n",
            "  n_iter_i = _check_optimize_result(\n",
            "/usr/local/lib/python3.10/dist-packages/sklearn/linear_model/_logistic.py:458: ConvergenceWarning: lbfgs failed to converge (status=1):\n",
            "STOP: TOTAL NO. of ITERATIONS REACHED LIMIT.\n",
            "\n",
            "Increase the number of iterations (max_iter) or scale the data as shown in:\n",
            "    https://scikit-learn.org/stable/modules/preprocessing.html\n",
            "Please also refer to the documentation for alternative solver options:\n",
            "    https://scikit-learn.org/stable/modules/linear_model.html#logistic-regression\n",
            "  n_iter_i = _check_optimize_result(\n",
            "/usr/local/lib/python3.10/dist-packages/sklearn/linear_model/_logistic.py:458: ConvergenceWarning: lbfgs failed to converge (status=1):\n",
            "STOP: TOTAL NO. of ITERATIONS REACHED LIMIT.\n",
            "\n",
            "Increase the number of iterations (max_iter) or scale the data as shown in:\n",
            "    https://scikit-learn.org/stable/modules/preprocessing.html\n",
            "Please also refer to the documentation for alternative solver options:\n",
            "    https://scikit-learn.org/stable/modules/linear_model.html#logistic-regression\n",
            "  n_iter_i = _check_optimize_result(\n",
            "/usr/local/lib/python3.10/dist-packages/sklearn/linear_model/_logistic.py:458: ConvergenceWarning: lbfgs failed to converge (status=1):\n",
            "STOP: TOTAL NO. of ITERATIONS REACHED LIMIT.\n",
            "\n",
            "Increase the number of iterations (max_iter) or scale the data as shown in:\n",
            "    https://scikit-learn.org/stable/modules/preprocessing.html\n",
            "Please also refer to the documentation for alternative solver options:\n",
            "    https://scikit-learn.org/stable/modules/linear_model.html#logistic-regression\n",
            "  n_iter_i = _check_optimize_result(\n"
          ]
        },
        {
          "output_type": "stream",
          "name": "stdout",
          "text": [
            "{'C': 3.5} 0.8593\n"
          ]
        },
        {
          "output_type": "stream",
          "name": "stderr",
          "text": [
            "/usr/local/lib/python3.10/dist-packages/sklearn/linear_model/_logistic.py:458: ConvergenceWarning: lbfgs failed to converge (status=1):\n",
            "STOP: TOTAL NO. of ITERATIONS REACHED LIMIT.\n",
            "\n",
            "Increase the number of iterations (max_iter) or scale the data as shown in:\n",
            "    https://scikit-learn.org/stable/modules/preprocessing.html\n",
            "Please also refer to the documentation for alternative solver options:\n",
            "    https://scikit-learn.org/stable/modules/linear_model.html#logistic-regression\n",
            "  n_iter_i = _check_optimize_result(\n"
          ]
        }
      ],
      "source": [
        "lg_clf = LogisticRegression(random_state=0)\n",
        "\n",
        "# 파라미터 C 최적화를 위해 GridSearchCV를 이용.\n",
        "params = {'C' : [1, 3.5, 4.5, 5.5, 10]}\n",
        "grid_cv = GridSearchCV(lg_clf, param_grid=params, cv=3, scoring='accuracy', verbose=1)\n",
        "grid_cv.fit(tfidf_matrix_train, train_df['label'])\n",
        "print(grid_cv.best_params_, round(grid_cv.best_score_, 4))"
      ]
    },
    {
      "cell_type": "markdown",
      "metadata": {
        "id": "xFtUhkxoDB7L"
      },
      "source": [
        "* 테스트 세트를 이용하여 최종 감성 분석 예측 수행"
      ]
    },
    {
      "cell_type": "code",
      "execution_count": 31,
      "metadata": {
        "colab": {
          "base_uri": "https://localhost:8080/"
        },
        "id": "BCZZtlMSDA4s",
        "outputId": "02a54907-7bc8-4767-d403-eeb9009deacf"
      },
      "outputs": [
        {
          "output_type": "stream",
          "name": "stdout",
          "text": [
            "Logistic Regression 정확도:  0.86186\n"
          ]
        }
      ],
      "source": [
        "from sklearn.metrics import accuracy_score\n",
        "\n",
        "# 학습 데이터를 적용한 TfidfVectorizer를 이용해 테스트 데이터를 TF-IDF 값으로 피처 변환함.\n",
        "tfidf_matrix_test = tfidf_vect.transform(test_df['document'])\n",
        "\n",
        "# classifier는 GridSearchCV에서 최적 파라미터로 학습된 classifier를 그대로 이용\n",
        "best_estimator = grid_cv.best_estimator_\n",
        "preds = best_estimator.predict(tfidf_matrix_test)\n",
        "\n",
        "print('Logistic Regression 정확도: ', accuracy_score(test_df['label'], preds))"
      ]
    },
    {
      "cell_type": "code",
      "source": [],
      "metadata": {
        "id": "LKO1nBKtInJE"
      },
      "execution_count": 31,
      "outputs": []
    }
  ],
  "metadata": {
    "colab": {
      "provenance": [],
      "mount_file_id": "1aj2Fznxnp-vBUwEy1_QegA3N5be_J3CK",
      "authorship_tag": "ABX9TyP13OZ4YYiTFG3USaTq3tz4",
      "include_colab_link": true
    },
    "kernelspec": {
      "display_name": "Python 3",
      "name": "python3"
    },
    "language_info": {
      "name": "python"
    }
  },
  "nbformat": 4,
  "nbformat_minor": 0
}